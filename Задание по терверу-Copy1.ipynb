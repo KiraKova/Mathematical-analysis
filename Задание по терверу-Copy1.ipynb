{
 "cells": [
  {
   "cell_type": "code",
   "execution_count": 2,
   "id": "5bcd5d05",
   "metadata": {},
   "outputs": [],
   "source": [
    "import pandas as pd\n",
    "import numpy as np\n",
    "import math\n",
    "import statistics\n",
    "from scipy.stats import moment\n",
    "from scipy.stats import skew\n",
    "from matplotlib import pyplot as plt\n",
    "import matplotlib.pyplot as plt\n",
    "import seaborn as sns\n",
    "from scipy. stats import poisson\n",
    "import scipy.stats as st\n",
    "from scipy import stats\n",
    "import scipy as sc\n",
    "from scipy.stats import pearsonr\n"
   ]
  },
  {
   "cell_type": "code",
   "execution_count": 3,
   "id": "84dd4e7f",
   "metadata": {},
   "outputs": [],
   "source": [
    "df = pd.read_excel('df.xlsx')"
   ]
  },
  {
   "cell_type": "code",
   "execution_count": 4,
   "id": "ff893ed0",
   "metadata": {},
   "outputs": [
    {
     "data": {
      "text/html": [
       "<div>\n",
       "<style scoped>\n",
       "    .dataframe tbody tr th:only-of-type {\n",
       "        vertical-align: middle;\n",
       "    }\n",
       "\n",
       "    .dataframe tbody tr th {\n",
       "        vertical-align: top;\n",
       "    }\n",
       "\n",
       "    .dataframe thead th {\n",
       "        text-align: right;\n",
       "    }\n",
       "</style>\n",
       "<table border=\"1\" class=\"dataframe\">\n",
       "  <thead>\n",
       "    <tr style=\"text-align: right;\">\n",
       "      <th></th>\n",
       "      <th>Период T</th>\n",
       "      <th>Общ число людей побывавших в бк</th>\n",
       "      <th>t между отход и приход за кассу</th>\n",
       "      <th>общ t проведенное в бк</th>\n",
       "      <th>общ t заказа</th>\n",
       "      <th>общ t в очереде</th>\n",
       "    </tr>\n",
       "  </thead>\n",
       "  <tbody>\n",
       "    <tr>\n",
       "      <th>0</th>\n",
       "      <td>60</td>\n",
       "      <td>73</td>\n",
       "      <td>1.037841</td>\n",
       "      <td>21.775624</td>\n",
       "      <td>1.290972</td>\n",
       "      <td>7.260948</td>\n",
       "    </tr>\n",
       "    <tr>\n",
       "      <th>1</th>\n",
       "      <td>60</td>\n",
       "      <td>73</td>\n",
       "      <td>1.321676</td>\n",
       "      <td>24.989560</td>\n",
       "      <td>3.731170</td>\n",
       "      <td>11.498853</td>\n",
       "    </tr>\n",
       "    <tr>\n",
       "      <th>2</th>\n",
       "      <td>60</td>\n",
       "      <td>73</td>\n",
       "      <td>3.455660</td>\n",
       "      <td>30.918678</td>\n",
       "      <td>4.056782</td>\n",
       "      <td>13.306931</td>\n",
       "    </tr>\n",
       "    <tr>\n",
       "      <th>3</th>\n",
       "      <td>60</td>\n",
       "      <td>73</td>\n",
       "      <td>4.014782</td>\n",
       "      <td>23.426742</td>\n",
       "      <td>1.147883</td>\n",
       "      <td>8.456784</td>\n",
       "    </tr>\n",
       "    <tr>\n",
       "      <th>4</th>\n",
       "      <td>60</td>\n",
       "      <td>73</td>\n",
       "      <td>2.924994</td>\n",
       "      <td>24.276738</td>\n",
       "      <td>1.141822</td>\n",
       "      <td>12.067165</td>\n",
       "    </tr>\n",
       "  </tbody>\n",
       "</table>\n",
       "</div>"
      ],
      "text/plain": [
       "   Период T  Общ число людей побывавших в бк  t между отход и приход за кассу  \\\n",
       "0        60                               73                         1.037841   \n",
       "1        60                               73                         1.321676   \n",
       "2        60                               73                         3.455660   \n",
       "3        60                               73                         4.014782   \n",
       "4        60                               73                         2.924994   \n",
       "\n",
       "   общ t проведенное в бк  общ t заказа  общ t в очереде  \n",
       "0               21.775624      1.290972         7.260948  \n",
       "1               24.989560      3.731170        11.498853  \n",
       "2               30.918678      4.056782        13.306931  \n",
       "3               23.426742      1.147883         8.456784  \n",
       "4               24.276738      1.141822        12.067165  "
      ]
     },
     "execution_count": 4,
     "metadata": {},
     "output_type": "execute_result"
    }
   ],
   "source": [
    "df.head()"
   ]
  },
  {
   "cell_type": "code",
   "execution_count": 5,
   "id": "87c89b5c",
   "metadata": {},
   "outputs": [
    {
     "data": {
      "text/html": [
       "<div>\n",
       "<style scoped>\n",
       "    .dataframe tbody tr th:only-of-type {\n",
       "        vertical-align: middle;\n",
       "    }\n",
       "\n",
       "    .dataframe tbody tr th {\n",
       "        vertical-align: top;\n",
       "    }\n",
       "\n",
       "    .dataframe thead th {\n",
       "        text-align: right;\n",
       "    }\n",
       "</style>\n",
       "<table border=\"1\" class=\"dataframe\">\n",
       "  <thead>\n",
       "    <tr style=\"text-align: right;\">\n",
       "      <th></th>\n",
       "      <th>Период T</th>\n",
       "      <th>Общ число людей побывавших в бк</th>\n",
       "      <th>t между отход и приход за кассу</th>\n",
       "      <th>общ t проведенное в бк</th>\n",
       "      <th>общ t заказа</th>\n",
       "      <th>общ t в очереде</th>\n",
       "    </tr>\n",
       "  </thead>\n",
       "  <tbody>\n",
       "    <tr>\n",
       "      <th>54</th>\n",
       "      <td>60</td>\n",
       "      <td>73</td>\n",
       "      <td>0.243837</td>\n",
       "      <td>20.751542</td>\n",
       "      <td>10.163080</td>\n",
       "      <td>6.447295</td>\n",
       "    </tr>\n",
       "    <tr>\n",
       "      <th>55</th>\n",
       "      <td>60</td>\n",
       "      <td>73</td>\n",
       "      <td>1.206761</td>\n",
       "      <td>15.182660</td>\n",
       "      <td>1.675927</td>\n",
       "      <td>10.873178</td>\n",
       "    </tr>\n",
       "    <tr>\n",
       "      <th>56</th>\n",
       "      <td>60</td>\n",
       "      <td>73</td>\n",
       "      <td>6.503840</td>\n",
       "      <td>18.616947</td>\n",
       "      <td>1.059256</td>\n",
       "      <td>11.200884</td>\n",
       "    </tr>\n",
       "    <tr>\n",
       "      <th>57</th>\n",
       "      <td>60</td>\n",
       "      <td>73</td>\n",
       "      <td>2.213139</td>\n",
       "      <td>30.068445</td>\n",
       "      <td>2.268670</td>\n",
       "      <td>15.198435</td>\n",
       "    </tr>\n",
       "    <tr>\n",
       "      <th>58</th>\n",
       "      <td>60</td>\n",
       "      <td>73</td>\n",
       "      <td>2.342367</td>\n",
       "      <td>27.214756</td>\n",
       "      <td>1.692486</td>\n",
       "      <td>11.260639</td>\n",
       "    </tr>\n",
       "  </tbody>\n",
       "</table>\n",
       "</div>"
      ],
      "text/plain": [
       "    Период T  Общ число людей побывавших в бк  \\\n",
       "54        60                               73   \n",
       "55        60                               73   \n",
       "56        60                               73   \n",
       "57        60                               73   \n",
       "58        60                               73   \n",
       "\n",
       "    t между отход и приход за кассу  общ t проведенное в бк  общ t заказа  \\\n",
       "54                         0.243837               20.751542     10.163080   \n",
       "55                         1.206761               15.182660      1.675927   \n",
       "56                         6.503840               18.616947      1.059256   \n",
       "57                         2.213139               30.068445      2.268670   \n",
       "58                         2.342367               27.214756      1.692486   \n",
       "\n",
       "    общ t в очереде  \n",
       "54         6.447295  \n",
       "55        10.873178  \n",
       "56        11.200884  \n",
       "57        15.198435  \n",
       "58        11.260639  "
      ]
     },
     "execution_count": 5,
     "metadata": {},
     "output_type": "execute_result"
    }
   ],
   "source": [
    "df.tail()"
   ]
  },
  {
   "cell_type": "markdown",
   "id": "4a7592fa",
   "metadata": {},
   "source": [
    "## Мат. ожидание"
   ]
  },
  {
   "cell_type": "markdown",
   "id": "130a6402",
   "metadata": {},
   "source": [
    "**Ручное решение**"
   ]
  },
  {
   "cell_type": "code",
   "execution_count": 6,
   "id": "ddd74764",
   "metadata": {},
   "outputs": [
    {
     "name": "stdout",
     "output_type": "stream",
     "text": [
      "M[x] t между отход и приход за кассу: 2.0358878379031933\n",
      "M[x] общ t проведенное в бк: 23.589131619679595\n",
      "M[x] общ t заказа: 3.428044656171858\n",
      "M[x] общ t в очереде: 10.192835494267563\n"
     ]
    }
   ],
   "source": [
    "m1 = np.sum(df['t между отход и приход за кассу'])/len(df['t между отход и приход за кассу'])\n",
    "m2 = np.sum(df['общ t проведенное в бк'])/len(df['общ t проведенное в бк'])\n",
    "m3 = np.sum(df['общ t заказа'])/len(df['общ t заказа'])\n",
    "m4 = np.sum(df['общ t в очереде'])/len(df['общ t в очереде'])\n",
    "\n",
    "\n",
    "\n",
    "print('M[x] t между отход и приход за кассу:', m1)\n",
    "print('M[x] общ t проведенное в бк:', m2)\n",
    "print('M[x] общ t заказа:', m3)\n",
    "print('M[x] общ t в очереде:', m4)"
   ]
  },
  {
   "cell_type": "markdown",
   "id": "1c59f45a",
   "metadata": {},
   "source": [
    "## Дисперсия"
   ]
  },
  {
   "cell_type": "markdown",
   "id": "823d70fe",
   "metadata": {},
   "source": [
    "**Проверка с помощью функции**"
   ]
  },
  {
   "cell_type": "code",
   "execution_count": 7,
   "id": "699364f7",
   "metadata": {},
   "outputs": [
    {
     "name": "stdout",
     "output_type": "stream",
     "text": [
      "1.9155248945580956\n",
      "19.812204903620714\n",
      "6.2504770411869535\n",
      "10.120037486653656\n"
     ]
    }
   ],
   "source": [
    "print(np.var(df['t между отход и приход за кассу']))\n",
    "print(np.var(df['общ t проведенное в бк']))\n",
    "print(np.var(df['общ t заказа']))\n",
    "print(np.var(df['общ t в очереде']))"
   ]
  },
  {
   "cell_type": "markdown",
   "id": "d317df8b",
   "metadata": {},
   "source": [
    "**Ручное решение**"
   ]
  },
  {
   "cell_type": "code",
   "execution_count": 8,
   "id": "af26660a",
   "metadata": {},
   "outputs": [
    {
     "name": "stdout",
     "output_type": "stream",
     "text": [
      "D[x] t между отход и приход за кассу: 1.9155248945580956\n",
      "D[x] общ t проведенное в бк: 19.812204903620795\n",
      "D[x] общ t заказа: 6.250477041186958\n",
      "D[x] общ t в очереде: 10.12003748665363\n"
     ]
    }
   ],
   "source": [
    "d1 = (np.sum((df['t между отход и приход за кассу'])**2)/59) - (m1**2)\n",
    "\n",
    "d2 = (np.sum((df['общ t проведенное в бк'])**2)/59) - (m2**2)\n",
    "\n",
    "d3 = (np.sum((df['общ t заказа'])**2)/59) - (m3**2)\n",
    "\n",
    "d4 = (np.sum((df['общ t в очереде'])**2)/59) - (m4**2)\n",
    "\n",
    "print('D[x] t между отход и приход за кассу:', d1)\n",
    "print('D[x] общ t проведенное в бк:', d2)\n",
    "print('D[x] общ t заказа:', d3)\n",
    "print('D[x] общ t в очереде:', d4)"
   ]
  },
  {
   "cell_type": "markdown",
   "id": "1db62cf0",
   "metadata": {},
   "source": [
    "## Исправленая дисперсия"
   ]
  },
  {
   "cell_type": "code",
   "execution_count": 9,
   "id": "fb03a82c",
   "metadata": {},
   "outputs": [
    {
     "name": "stdout",
     "output_type": "stream",
     "text": [
      "1) Для [t между отход и приход за кассу]:  \n",
      " Обычная D =        1.9155248945580956 \n",
      " исправленная S^2 = 1.9485511858435798 \n",
      "\n",
      "2) Для [общ t проведенное в бк]:  \n",
      " Обычная D =        19.812204903620795 \n",
      " исправленная S^2 = 20.153794643338394 \n",
      "\n",
      "3) Для [общ t заказа]:  \n",
      " Обычная D =        6.250477041186958 \n",
      " исправленная S^2 = 6.358243886724663 \n",
      "\n",
      "4) Для [общ t в очереде]:  \n",
      " Обычная D =        10.12003748665363 \n",
      " исправленная S^2 = 10.294520891595932 \n",
      "\n"
     ]
    }
   ],
   "source": [
    "s1 = (len(df)/(len(df)-1))*d1\n",
    "print('1)','Для [t между отход и приход за кассу]: ','\\n','Обычная D =       ', d1, '\\n', 'исправленная S^2 =',s1, '\\n')\n",
    "\n",
    "s2 = (len(df)/(len(df)-1))*d2\n",
    "print('2)','Для [общ t проведенное в бк]: ','\\n','Обычная D =       ', d2, '\\n', 'исправленная S^2 =',s2, '\\n')\n",
    "\n",
    "s3 = (len(df)/(len(df)-1))*d3\n",
    "print('3)','Для [общ t заказа]: ','\\n','Обычная D =       ', d3, '\\n', 'исправленная S^2 =',s3, '\\n')\n",
    "\n",
    "s4 = (len(df)/(len(df)-1))*d4\n",
    "print('4)','Для [общ t в очереде]: ','\\n','Обычная D =       ', d4, '\\n', 'исправленная S^2 =',s4, '\\n')"
   ]
  },
  {
   "cell_type": "markdown",
   "id": "0043587f",
   "metadata": {},
   "source": [
    "## Стандартое отклонение"
   ]
  },
  {
   "cell_type": "markdown",
   "id": "699dcdab",
   "metadata": {},
   "source": [
    "**Проверка с помощью функции**"
   ]
  },
  {
   "cell_type": "code",
   "execution_count": 10,
   "id": "2cf07b2d",
   "metadata": {},
   "outputs": [
    {
     "name": "stdout",
     "output_type": "stream",
     "text": [
      "1.3959051493004744\n",
      "4.489297789558887\n",
      "2.521555846441768\n",
      "3.208507580105735\n"
     ]
    }
   ],
   "source": [
    "std1 = statistics.stdev(df['t между отход и приход за кассу'])\n",
    "std2 = statistics.stdev(df['общ t проведенное в бк'])\n",
    "std3 = statistics.stdev(df['общ t заказа'])\n",
    "std4 = statistics.stdev(df['общ t в очереде'])\n",
    "\n",
    "print(std1)\n",
    "print(std2)\n",
    "print(std3)\n",
    "print(std4)"
   ]
  },
  {
   "cell_type": "markdown",
   "id": "53c37237",
   "metadata": {},
   "source": [
    "**Ручное решение**"
   ]
  },
  {
   "cell_type": "code",
   "execution_count": 11,
   "id": "011f040b",
   "metadata": {},
   "outputs": [
    {
     "name": "stdout",
     "output_type": "stream",
     "text": [
      "Стандартное отклонение для  t между отход и приход за кассу 1.3840248894286893\n",
      "Стандартное отклонение для  общ t проведенное в бк 4.451090305039968\n",
      "Стандартное отклонение для  общ t заказа 2.5000954064169147\n",
      "Стандартное отклонение для  общ t в очереде 3.1812006360262206\n"
     ]
    }
   ],
   "source": [
    "srz1 = math.sqrt(d1)\n",
    "srz2 = math.sqrt(d2)\n",
    "srz3 = math.sqrt(d3)\n",
    "srz4 = math.sqrt(d4)\n",
    "\n",
    "print('Стандартное отклонение для  t между отход и приход за кассу', srz1)\n",
    "print('Стандартное отклонение для  общ t проведенное в бк', srz2)\n",
    "print('Стандартное отклонение для  общ t заказа', srz3)\n",
    "print('Стандартное отклонение для  общ t в очереде', srz4)"
   ]
  },
  {
   "cell_type": "markdown",
   "id": "b00d8277",
   "metadata": {},
   "source": [
    "## Исправленное стандартное отклонение"
   ]
  },
  {
   "cell_type": "code",
   "execution_count": 12,
   "id": "0b01ee13",
   "metadata": {},
   "outputs": [
    {
     "name": "stdout",
     "output_type": "stream",
     "text": [
      "1) Для [t между отход и приход за кассу]:  \n",
      " Обычная srz =      1.3840248894286893 \n",
      " исправленная srz = 1.3959051493004744 \n",
      "\n",
      "1) Для [общ t проведенное в бк]:  \n",
      " Обычная srz =      1.3840248894286893 \n",
      " исправленная srz = 4.489297789558896 \n",
      "\n",
      "1) Для [общ t заказа]:  \n",
      " Обычная srz =      1.3840248894286893 \n",
      " исправленная srz = 2.5215558464417684 \n",
      "\n",
      "1) Для [общ t в очереде]:  \n",
      " Обычная srz =      1.3840248894286893 \n",
      " исправленная srz = 3.2085075801057306 \n",
      "\n"
     ]
    }
   ],
   "source": [
    "c1 = math.sqrt(s1)\n",
    "print('1)','Для [t между отход и приход за кассу]: ','\\n','Обычная srz =     ', srz1, '\\n', 'исправленная srz =',c1, '\\n')\n",
    "\n",
    "c2 = math.sqrt(s2)\n",
    "print('1)','Для [общ t проведенное в бк]: ','\\n','Обычная srz =     ', srz1, '\\n', 'исправленная srz =',c2, '\\n')\n",
    "\n",
    "c3 = math.sqrt(s3)\n",
    "print('1)','Для [общ t заказа]: ','\\n','Обычная srz =     ', srz1, '\\n', 'исправленная srz =',c3, '\\n')\n",
    "\n",
    "c4 = math.sqrt(s4)\n",
    "print('1)','Для [общ t в очереде]: ','\\n','Обычная srz =     ', srz1, '\\n', 'исправленная srz =',c4, '\\n')"
   ]
  },
  {
   "cell_type": "markdown",
   "id": "021ce846",
   "metadata": {},
   "source": [
    "## Начальный и центральный момент до 4 порядка"
   ]
  },
  {
   "cell_type": "markdown",
   "id": "d8a1ea46",
   "metadata": {},
   "source": [
    "### Начальные моменты"
   ]
  },
  {
   "cell_type": "markdown",
   "id": "fbf7733b",
   "metadata": {},
   "source": [
    "**1) Для t между отход и приход за кассу**"
   ]
  },
  {
   "cell_type": "code",
   "execution_count": 13,
   "id": "7da6b504",
   "metadata": {},
   "outputs": [
    {
     "name": "stdout",
     "output_type": "stream",
     "text": [
      "Начальный момент 1 t между отход и приход за кассу:  2.0358878379031933\n",
      "Начальный момент 2 t между отход и приход за кассу:  1.9155248945580956\n",
      "Начальный момент 3 t между отход и приход за кассу:  2.4388506334016142\n",
      "Начальный момент 4 t между отход и приход за кассу:  13.582783027237664\n"
     ]
    }
   ],
   "source": [
    "print('Начальный момент 1 t между отход и приход за кассу: ', m1)\n",
    "\n",
    "m1_2 = d1\n",
    "print('Начальный момент 2 t между отход и приход за кассу: ', m1_2)\n",
    "\n",
    "m1_3 = moment(df['t между отход и приход за кассу'], moment=3)\n",
    "print('Начальный момент 3 t между отход и приход за кассу: ', m1_3)\n",
    "\n",
    "m1_4 = moment(df['t между отход и приход за кассу'], moment=4)\n",
    "print('Начальный момент 4 t между отход и приход за кассу: ', m1_4)"
   ]
  },
  {
   "cell_type": "markdown",
   "id": "e961554f",
   "metadata": {},
   "source": [
    "**2) общ t проведенное в бк** "
   ]
  },
  {
   "cell_type": "code",
   "execution_count": 14,
   "id": "12f68d20",
   "metadata": {},
   "outputs": [
    {
     "name": "stdout",
     "output_type": "stream",
     "text": [
      "Начальный момент 1 общ t проведенное в бк:  23.589131619679595\n",
      "Начальный момент 2 общ t проведенное в бк:  19.812204903620795\n",
      "Начальный момент 3 общ t проведенное в бк:  -7.515994685507545\n",
      "Начальный момент 4 общ t проведенное в бк:  929.644291899913\n"
     ]
    }
   ],
   "source": [
    "print('Начальный момент 1 общ t проведенное в бк: ', m2)\n",
    "\n",
    "print('Начальный момент 2 общ t проведенное в бк: ', d2)\n",
    "\n",
    "m2_3 = moment(df['общ t проведенное в бк'], moment=3)\n",
    "print('Начальный момент 3 общ t проведенное в бк: ', m2_3)\n",
    "\n",
    "m2_4 = moment(df['общ t проведенное в бк'], moment=4)\n",
    "print('Начальный момент 4 общ t проведенное в бк: ', m2_4)"
   ]
  },
  {
   "cell_type": "markdown",
   "id": "4d57348a",
   "metadata": {},
   "source": [
    "**3) общ t заказа**"
   ]
  },
  {
   "cell_type": "code",
   "execution_count": 15,
   "id": "ba99f4ce",
   "metadata": {},
   "outputs": [
    {
     "name": "stdout",
     "output_type": "stream",
     "text": [
      "Начальный момент 1 общ t заказа:  3.428044656171858\n",
      "Начальный момент 2 общ t заказа:  6.250477041186958\n",
      "Начальный момент 3 общ t заказа:  17.726210649550115\n",
      "Начальный момент 4 общ t заказа:  147.04409767193107\n"
     ]
    }
   ],
   "source": [
    "print('Начальный момент 1 общ t заказа: ', m3)\n",
    "\n",
    "print('Начальный момент 2 общ t заказа: ', d3)\n",
    "\n",
    "m3_3 = moment(df['общ t заказа'], moment=3)\n",
    "print('Начальный момент 3 общ t заказа: ', m3_3)\n",
    "\n",
    "m3_4 = moment(df['общ t заказа'], moment=4)\n",
    "print('Начальный момент 4 общ t заказа: ', m3_4)"
   ]
  },
  {
   "cell_type": "markdown",
   "id": "41e0d58f",
   "metadata": {},
   "source": [
    "**4) общ t в очереде**"
   ]
  },
  {
   "cell_type": "code",
   "execution_count": 16,
   "id": "73d9026f",
   "metadata": {},
   "outputs": [
    {
     "name": "stdout",
     "output_type": "stream",
     "text": [
      "Начальный момент 1 общ t в очереде:  10.192835494267563\n",
      "Начальный момент 2 общ t в очереде:  10.12003748665363\n",
      "Начальный момент 3 общ t в очереде:  3.956407514492461\n",
      "Начальный момент 4 общ t в очереде:  345.2570987841891\n"
     ]
    }
   ],
   "source": [
    "print('Начальный момент 1 общ t в очереде: ', m4)\n",
    "\n",
    "print('Начальный момент 2 общ t в очереде: ', d4)\n",
    "\n",
    "m4_3 = moment(df['общ t в очереде'], moment=3)\n",
    "print('Начальный момент 3 общ t в очереде: ', m4_3)\n",
    "\n",
    "m4_4 = moment(df['общ t в очереде'], moment=4)\n",
    "print('Начальный момент 4 общ t в очереде: ', m4_4)"
   ]
  },
  {
   "cell_type": "markdown",
   "id": "c6d1c314",
   "metadata": {},
   "source": [
    "### Центральные моменты"
   ]
  },
  {
   "cell_type": "markdown",
   "id": "7fb71c3b",
   "metadata": {},
   "source": [
    "**1) Для t между отход и приход за кассу**"
   ]
  },
  {
   "cell_type": "code",
   "execution_count": 17,
   "id": "1f23415f",
   "metadata": {},
   "outputs": [
    {
     "name": "stdout",
     "output_type": "stream",
     "text": [
      "Центральный момент 1 для t между отход и приход за кассу: 0\n",
      "Центральный момент 2 для t между отход и приход за кассу: -2.229314393964043\n",
      "Центральный момент 3 для t между отход и приход за кассу: 7.61632492043784\n",
      "Центральный момент 4 для t между отход и приход за кассу: -10.179943481172131\n"
     ]
    }
   ],
   "source": [
    "cent1_1 = 0\n",
    "print('Центральный момент 1 для t между отход и приход за кассу:', cent1_1)\n",
    "\n",
    "cent1_2 = m1_2-(m1)**2\n",
    "print('Центральный момент 2 для t между отход и приход за кассу:', cent1_2)\n",
    "\n",
    "cent1_3 = m1_3-3*m1_2*m1+2*m1**3\n",
    "print('Центральный момент 3 для t между отход и приход за кассу:', cent1_3)\n",
    "\n",
    "cent1_4 = m1_4 - 4*m1_3*m1 + 6*m1_2*(m1)**2 - 3*(m1)**4\n",
    "print('Центральный момент 4 для t между отход и приход за кассу:', cent1_4)"
   ]
  },
  {
   "cell_type": "markdown",
   "id": "381c36de",
   "metadata": {},
   "source": [
    "**2) общ t проведенное в бк** "
   ]
  },
  {
   "cell_type": "code",
   "execution_count": 18,
   "id": "2e3adf17",
   "metadata": {},
   "outputs": [
    {
     "name": "stdout",
     "output_type": "stream",
     "text": [
      "Центральный момент 1 для общ t проведенное в бк: 0\n",
      "Центральный момент 2 для общ t проведенное в бк: -536.6349256669469\n",
      "Центральный момент 3 для общ t проведенное в бк: 24842.63508271609\n",
      "Центральный момент 4 для общ t проведенное в бк: -861114.7325038227\n"
     ]
    }
   ],
   "source": [
    "cent2_1 = 0\n",
    "print('Центральный момент 1 для общ t проведенное в бк:', cent2_1)\n",
    "\n",
    "cent2_2 = d2-(m2)**2\n",
    "print('Центральный момент 2 для общ t проведенное в бк:', cent2_2)\n",
    "\n",
    "cent2_3 = m2_3-3*d2*m2+2*m2**3\n",
    "print('Центральный момент 3 для общ t проведенное в бк:', cent2_3)\n",
    "\n",
    "cent2_4 = m2_4 - 4*m2_3*m2 + 6*d2*(m2)**2 - 3*(m2)**4\n",
    "print('Центральный момент 4 для общ t проведенное в бк:', cent2_4)"
   ]
  },
  {
   "cell_type": "markdown",
   "id": "097b2665",
   "metadata": {},
   "source": [
    "**3) общ t заказа**"
   ]
  },
  {
   "cell_type": "code",
   "execution_count": 19,
   "id": "1e22017b",
   "metadata": {},
   "outputs": [
    {
     "name": "stdout",
     "output_type": "stream",
     "text": [
      "Центральный момент 1 для общ t заказа: 0\n",
      "Центральный момент 2 для общ t заказа: -5.501013123521474\n",
      "Центральный момент 3 для общ t заказа: 34.01473351322238\n",
      "Центральный момент 4 для общ t заказа: -69.59891552178738\n"
     ]
    }
   ],
   "source": [
    "cent3_1 = 0\n",
    "print('Центральный момент 1 для общ t заказа:', cent3_1)\n",
    "\n",
    "cent3_2 = d3-(m3)**2\n",
    "print('Центральный момент 2 для общ t заказа:', cent3_2)\n",
    "\n",
    "cent3_3 = m3_3-3*d3*m3+2*m3**3\n",
    "print('Центральный момент 3 для общ t заказа:', cent3_3)\n",
    "\n",
    "cent3_4 = m3_4 - 4*m3_3*m3 + 6*d3*(m3)**2 - 3*(m3)**4\n",
    "print('Центральный момент 4 для общ t заказа:', cent3_4)"
   ]
  },
  {
   "cell_type": "markdown",
   "id": "bb2f4624",
   "metadata": {},
   "source": [
    "**4) общ t в очереде**"
   ]
  },
  {
   "cell_type": "code",
   "execution_count": 20,
   "id": "6912a219",
   "metadata": {},
   "outputs": [
    {
     "name": "stdout",
     "output_type": "stream",
     "text": [
      "Центральный момент 1 для общ t в очереде: 0\n",
      "Центральный момент 2 для общ t в очереде: -93.77385792654704\n",
      "Центральный момент 3 для общ t в очереде: 1812.4475452334354\n",
      "Центральный момент 4 для общ t в очереде: -25889.414760080694\n"
     ]
    }
   ],
   "source": [
    "cent4_1 = 0\n",
    "print('Центральный момент 1 для общ t в очереде:', cent4_1)\n",
    "\n",
    "cent4_2 = d4-(m4)**2\n",
    "print('Центральный момент 2 для общ t в очереде:', cent4_2)\n",
    "\n",
    "cent4_3 = m4_3-3*d4*m4+2*m4**3\n",
    "print('Центральный момент 3 для общ t в очереде:', cent4_3)\n",
    "\n",
    "cent4_4 = m4_4 - 4*m4_3*m4 + 6*d4*(m4)**2 - 3*(m4)**4\n",
    "print('Центральный момент 4 для общ t в очереде:', cent4_4)"
   ]
  },
  {
   "cell_type": "markdown",
   "id": "f499ab0e",
   "metadata": {},
   "source": [
    "# Ассиметрия и эксцесс"
   ]
  },
  {
   "cell_type": "markdown",
   "id": "86c04272",
   "metadata": {},
   "source": [
    "**1) Ассиметрия**"
   ]
  },
  {
   "cell_type": "code",
   "execution_count": 21,
   "id": "c3afedf9",
   "metadata": {},
   "outputs": [
    {
     "name": "stdout",
     "output_type": "stream",
     "text": [
      "Ассиметрия для t между отход и приход за кассу:  2.8728553690043768\n",
      "Ассиметрия для общ t проведенное в бк:  281.7075221004647\n",
      "Ассиметрия для общ t заказа:  2.1766937306763445\n",
      "Ассиметрия для общ t в очереде:  56.297908972532454\n"
     ]
    }
   ],
   "source": [
    "as1 = cent1_3/srz1**3\n",
    "print('Ассиметрия для t между отход и приход за кассу: ', as1)\n",
    "\n",
    "as2 = cent2_3/srz2**3\n",
    "print('Ассиметрия для общ t проведенное в бк: ', as2)\n",
    "\n",
    "as3 = cent3_3/srz3**3\n",
    "print('Ассиметрия для общ t заказа: ', as3)\n",
    "\n",
    "as4 = cent4_3/srz4**3\n",
    "print('Ассиметрия для общ t в очереде: ', as4)"
   ]
  },
  {
   "cell_type": "markdown",
   "id": "b5f5c8e2",
   "metadata": {},
   "source": [
    "**2) Эксцесс**"
   ]
  },
  {
   "cell_type": "code",
   "execution_count": 22,
   "id": "23ac82bb",
   "metadata": {},
   "outputs": [
    {
     "name": "stdout",
     "output_type": "stream",
     "text": [
      "Эксцесс для t между отход и приход за кассу:  -5.774404407568101\n",
      "Эксцесс для общ t проведенное в бк:  -2196.791743323093\n",
      "Эксцесс для общ t заказа:  -4.781460281402726\n",
      "Эксцесс для общ t в очереде:  -255.7888945425692\n"
     ]
    }
   ],
   "source": [
    "eq1 = (cent1_4/srz1**4)-3\n",
    "print('Эксцесс для t между отход и приход за кассу: ', eq1)\n",
    "\n",
    "eq2 = (cent2_4/srz2**4)-3\n",
    "print('Эксцесс для общ t проведенное в бк: ', eq2)\n",
    "\n",
    "eq3 = (cent3_4/srz3**4)-3\n",
    "print('Эксцесс для общ t заказа: ', eq3)\n",
    "\n",
    "eq4 = (cent4_4/srz4**4)-3\n",
    "print('Эксцесс для общ t в очереде: ', eq4)"
   ]
  },
  {
   "cell_type": "markdown",
   "id": "1c36e82d",
   "metadata": {},
   "source": [
    "## Полигон частот (плотность вероятностей)"
   ]
  },
  {
   "cell_type": "markdown",
   "id": "46257d54",
   "metadata": {},
   "source": [
    "### Полигон частот по **x** собития, по **y** количество событей"
   ]
  },
  {
   "cell_type": "code",
   "execution_count": 5,
   "id": "b6334da5",
   "metadata": {},
   "outputs": [
    {
     "ename": "NameError",
     "evalue": "name 'plt' is not defined",
     "output_type": "error",
     "traceback": [
      "\u001b[1;31m---------------------------------------------------------------------------\u001b[0m",
      "\u001b[1;31mNameError\u001b[0m                                 Traceback (most recent call last)",
      "\u001b[1;32m~\\AppData\\Local\\Temp\\ipykernel_29768\\3366557858.py\u001b[0m in \u001b[0;36m<module>\u001b[1;34m\u001b[0m\n\u001b[1;32m----> 1\u001b[1;33m \u001b[0mfig\u001b[0m\u001b[1;33m,\u001b[0m \u001b[0max\u001b[0m \u001b[1;33m=\u001b[0m \u001b[0mplt\u001b[0m\u001b[1;33m.\u001b[0m\u001b[0msubplots\u001b[0m\u001b[1;33m(\u001b[0m\u001b[0mnrows\u001b[0m\u001b[1;33m=\u001b[0m\u001b[1;36m2\u001b[0m\u001b[1;33m,\u001b[0m \u001b[0mncols\u001b[0m\u001b[1;33m=\u001b[0m\u001b[1;36m2\u001b[0m\u001b[1;33m)\u001b[0m\u001b[1;33m\u001b[0m\u001b[1;33m\u001b[0m\u001b[0m\n\u001b[0m\u001b[0;32m      2\u001b[0m \u001b[1;33m\u001b[0m\u001b[0m\n\u001b[0;32m      3\u001b[0m \u001b[1;33m\u001b[0m\u001b[0m\n\u001b[0;32m      4\u001b[0m \u001b[1;31m#ax[0][0].distplot(df['t между отход и приход за кассу'])\u001b[0m\u001b[1;33m\u001b[0m\u001b[1;33m\u001b[0m\u001b[0m\n\u001b[0;32m      5\u001b[0m \u001b[0max\u001b[0m\u001b[1;33m[\u001b[0m\u001b[1;36m0\u001b[0m\u001b[1;33m]\u001b[0m\u001b[1;33m[\u001b[0m\u001b[1;36m0\u001b[0m\u001b[1;33m]\u001b[0m\u001b[1;33m.\u001b[0m\u001b[0mhist\u001b[0m\u001b[1;33m(\u001b[0m\u001b[0mdf_new2\u001b[0m\u001b[1;33m[\u001b[0m\u001b[1;34m't между отход и приход за кассу'\u001b[0m\u001b[1;33m]\u001b[0m\u001b[1;33m,\u001b[0m \u001b[0mbins\u001b[0m\u001b[1;33m=\u001b[0m\u001b[1;36m7\u001b[0m\u001b[1;33m,\u001b[0m \u001b[0mcolor\u001b[0m\u001b[1;33m=\u001b[0m\u001b[1;34m\"red\"\u001b[0m\u001b[1;33m,\u001b[0m \u001b[0mec\u001b[0m\u001b[1;33m=\u001b[0m\u001b[1;34m\"white\"\u001b[0m\u001b[1;33m)\u001b[0m\u001b[1;33m\u001b[0m\u001b[1;33m\u001b[0m\u001b[0m\n",
      "\u001b[1;31mNameError\u001b[0m: name 'plt' is not defined"
     ]
    }
   ],
   "source": [
    "fig, ax = plt.subplots(nrows=2, ncols=2)\n",
    "\n",
    "\n",
    "#ax[0][0].distplot(df['t между отход и приход за кассу'])\n",
    "ax[0][0].hist(df_new2['t между отход и приход за кассу'], bins=7, color=\"red\", ec=\"white\")\n",
    "ax[0][0].set_xlabel('Измеренные данные о t между отход и приход за кассу')\n",
    "ax[0][0].set_ylabel('Количество встреч данных')\n",
    "ax[0][0].set_title(\"Пуасоновское распределение\")\n",
    "\n",
    "#sns_plot = sns.distplot(df['t между отход и приход за кассу'])\n",
    "#ax[0][0] = sns_plot\n",
    "\n",
    "\n",
    "ax[0][1].hist(df['общ t проведенное в бк'], bins=7, color=\"green\", ec=\"white\")\n",
    "ax[0][1].set_xlabel('Измеренные данные о общ t проведенное в бк')\n",
    "ax[0][1].set_ylabel('Количество встреч данных')\n",
    "ax[0][1].set_title(\"Нормальное распределение\")\n",
    "\n",
    "ax[1][0].hist(df['общ t заказа'], bins=7, color=\"blue\", ec=\"white\")\n",
    "ax[1][0].set_xlabel('Измеренные данные о общ t заказа')\n",
    "ax[1][0].set_ylabel('Количество встреч данных')\n",
    "ax[1][0].set_title(\"Пуасоновское распределение\")\n",
    "\n",
    "ax[1][1].hist(df['общ t в очереде'], bins=7, color=\"orange\", ec=\"white\")\n",
    "ax[1][1].set_xlabel('Измеренные данные о общ t в очереде')\n",
    "ax[1][1].set_ylabel('Количество встреч данных')\n",
    "ax[1][1].set_title(\"Нормальное распределение\")\n",
    "\n",
    "\n",
    "\n",
    "fig.set_size_inches(10, 10)\n",
    "fig.subplots_adjust(wspace=0.5)\n",
    "plt.show()"
   ]
  },
  {
   "cell_type": "markdown",
   "id": "8075188a",
   "metadata": {},
   "source": [
    "## Проверка дынных на нормальное распределение"
   ]
  },
  {
   "cell_type": "markdown",
   "id": "a0e42738",
   "metadata": {},
   "source": [
    "# *************************"
   ]
  },
  {
   "cell_type": "code",
   "execution_count": 1,
   "id": "2a6e631e",
   "metadata": {},
   "outputs": [],
   "source": [
    "#np.max(df[df['общ t заказа']<9])\n",
    "#np.min(df['t между отход и приход за кассу'])"
   ]
  },
  {
   "cell_type": "code",
   "execution_count": 6,
   "id": "5d6890d8",
   "metadata": {},
   "outputs": [
    {
     "ename": "NameError",
     "evalue": "name 'df' is not defined",
     "output_type": "error",
     "traceback": [
      "\u001b[1;31m---------------------------------------------------------------------------\u001b[0m",
      "\u001b[1;31mNameError\u001b[0m                                 Traceback (most recent call last)",
      "\u001b[1;32m~\\AppData\\Local\\Temp\\ipykernel_29768\\1058006290.py\u001b[0m in \u001b[0;36m<module>\u001b[1;34m\u001b[0m\n\u001b[1;32m----> 1\u001b[1;33m \u001b[0mdf_new\u001b[0m \u001b[1;33m=\u001b[0m \u001b[0mdf\u001b[0m\u001b[1;33m[\u001b[0m\u001b[0mdf\u001b[0m\u001b[1;33m[\u001b[0m\u001b[1;34m'общ t заказа'\u001b[0m\u001b[1;33m]\u001b[0m\u001b[1;33m<\u001b[0m\u001b[1;36m9\u001b[0m\u001b[1;33m]\u001b[0m\u001b[1;33m\u001b[0m\u001b[1;33m\u001b[0m\u001b[0m\n\u001b[0m\u001b[0;32m      2\u001b[0m \u001b[0mdf_new2\u001b[0m \u001b[1;33m=\u001b[0m \u001b[0mdf\u001b[0m\u001b[1;33m[\u001b[0m\u001b[0mdf\u001b[0m\u001b[1;33m[\u001b[0m\u001b[1;34m't между отход и приход за кассу'\u001b[0m\u001b[1;33m]\u001b[0m\u001b[1;33m>\u001b[0m\u001b[1;36m1\u001b[0m\u001b[1;33m]\u001b[0m\u001b[1;33m\u001b[0m\u001b[1;33m\u001b[0m\u001b[0m\n",
      "\u001b[1;31mNameError\u001b[0m: name 'df' is not defined"
     ]
    }
   ],
   "source": [
    "df_new = df[df['общ t заказа']<9]\n",
    "df_new2 = df[df['t между отход и приход за кассу']>1]"
   ]
  },
  {
   "cell_type": "code",
   "execution_count": 3,
   "id": "c7f970c2",
   "metadata": {},
   "outputs": [
    {
     "ename": "NameError",
     "evalue": "name 'df_new2' is not defined",
     "output_type": "error",
     "traceback": [
      "\u001b[1;31m---------------------------------------------------------------------------\u001b[0m",
      "\u001b[1;31mNameError\u001b[0m                                 Traceback (most recent call last)",
      "\u001b[1;32m~\\AppData\\Local\\Temp\\ipykernel_29768\\1425699059.py\u001b[0m in \u001b[0;36m<module>\u001b[1;34m\u001b[0m\n\u001b[1;32m----> 1\u001b[1;33m \u001b[0mdf1\u001b[0m \u001b[1;33m=\u001b[0m \u001b[0mdf_new2\u001b[0m\u001b[1;33m[\u001b[0m\u001b[1;34m't между отход и приход за кассу'\u001b[0m\u001b[1;33m]\u001b[0m\u001b[1;33m\u001b[0m\u001b[1;33m\u001b[0m\u001b[0m\n\u001b[0m\u001b[0;32m      2\u001b[0m \u001b[0mdf2\u001b[0m \u001b[1;33m=\u001b[0m \u001b[0mdf\u001b[0m\u001b[1;33m[\u001b[0m\u001b[1;34m'общ t проведенное в бк'\u001b[0m\u001b[1;33m]\u001b[0m\u001b[1;33m\u001b[0m\u001b[1;33m\u001b[0m\u001b[0m\n\u001b[0;32m      3\u001b[0m \u001b[0mdf3\u001b[0m \u001b[1;33m=\u001b[0m \u001b[0mdf_new\u001b[0m\u001b[1;33m[\u001b[0m\u001b[1;34m'общ t заказа'\u001b[0m\u001b[1;33m]\u001b[0m\u001b[1;33m\u001b[0m\u001b[1;33m\u001b[0m\u001b[0m\n\u001b[0;32m      4\u001b[0m \u001b[0mdf4\u001b[0m \u001b[1;33m=\u001b[0m \u001b[0mdf\u001b[0m\u001b[1;33m[\u001b[0m\u001b[1;34m'общ t в очереде'\u001b[0m\u001b[1;33m]\u001b[0m\u001b[1;33m\u001b[0m\u001b[1;33m\u001b[0m\u001b[0m\n",
      "\u001b[1;31mNameError\u001b[0m: name 'df_new2' is not defined"
     ]
    }
   ],
   "source": [
    "df1 = df_new2['t между отход и приход за кассу']\n",
    "df2 = df['общ t проведенное в бк']\n",
    "df3 = df_new['общ t заказа']\n",
    "df4 = df['общ t в очереде']"
   ]
  },
  {
   "cell_type": "markdown",
   "id": "dc3cc979",
   "metadata": {},
   "source": [
    "# *************************"
   ]
  },
  {
   "cell_type": "code",
   "execution_count": 40,
   "id": "19ee05c4",
   "metadata": {},
   "outputs": [
    {
     "name": "stdout",
     "output_type": "stream",
     "text": [
      "Уровень значимость 0,05\n",
      "После проведения теста получаем данные:  \n",
      " ShapiroResult(statistic=0.9039766788482666, pvalue=0.001445209956727922) \n",
      " ShapiroResult(statistic=0.989347517490387, pvalue=0.8860000371932983) \n",
      " ShapiroResult(statistic=0.9297991394996643, pvalue=0.002918823854997754) \n",
      " ShapiroResult(statistic=0.9916186332702637, pvalue=0.9574525356292725) \n",
      "\n",
      "Для [t между отход и приход за кассу], тест показал: 0.001445209956727922 что < 0,05 --> Не нормальное распределение \n",
      "\n",
      "Для [общ t проведенное в бк], тест показал: 0.8860000371932983 что > 0,05 --> Нормальное распределение \n",
      "\n",
      "Для [общ t заказа], тест показал: 0.002918823854997754 что < 0,05 --> Не нормальное распределение \n",
      "\n",
      "Для [общ t в очереде], тест показал: 0.9574525356292725 что > 0,05 --> Нормальное распределение \n",
      "\n"
     ]
    }
   ],
   "source": [
    "print('Уровень значимость 0,05')\n",
    "norm1 = sc.stats.shapiro(df1)\n",
    "norm2 = sc.stats.shapiro(df2)\n",
    "norm3 = sc.stats.shapiro(df3)\n",
    "norm4 = sc.stats.shapiro(df4)\n",
    "print('После проведения теста получаем данные: ','\\n' ,norm1, '\\n',norm2, '\\n',norm3, '\\n',norm4, '\\n')\n",
    "\n",
    "print('Для [t между отход и приход за кассу], тест показал:', norm1[1],'что < 0,05 --> Не нормальное распределение', '\\n')\n",
    "print('Для [общ t проведенное в бк], тест показал:', norm2[1],'что > 0,05 --> Нормальное распределение', '\\n')\n",
    "print('Для [общ t заказа], тест показал:', norm3[1], 'что < 0,05 --> Не нормальное распределение','\\n')\n",
    "print('Для [общ t в очереде], тест показал:', norm4[1],'что > 0,05 --> Нормальное распределение', '\\n')"
   ]
  },
  {
   "cell_type": "code",
   "execution_count": null,
   "id": "335b0f41",
   "metadata": {},
   "outputs": [],
   "source": []
  },
  {
   "cell_type": "code",
   "execution_count": 41,
   "id": "0fab7031",
   "metadata": {},
   "outputs": [
    {
     "name": "stderr",
     "output_type": "stream",
     "text": [
      "G:\\ANACONDA\\lib\\site-packages\\seaborn\\distributions.py:2619: FutureWarning: `distplot` is a deprecated function and will be removed in a future version. Please adapt your code to use either `displot` (a figure-level function with similar flexibility) or `histplot` (an axes-level function for histograms).\n",
      "  warnings.warn(msg, FutureWarning)\n"
     ]
    },
    {
     "data": {
      "image/png": "[encoded data removed]",
      "text/plain": [
       "<Figure size 640x480 with 1 Axes>"
      ]
     },
     "metadata": {},
     "output_type": "display_data"
    }
   ],
   "source": [
    "sns_plot = sns.distplot(df_new2['t между отход и приход за кассу'], color='red')\n"
   ]
  },
  {
   "cell_type": "code",
   "execution_count": 42,
   "id": "88b02297",
   "metadata": {},
   "outputs": [
    {
     "name": "stderr",
     "output_type": "stream",
     "text": [
      "G:\\ANACONDA\\lib\\site-packages\\seaborn\\distributions.py:2619: FutureWarning: `distplot` is a deprecated function and will be removed in a future version. Please adapt your code to use either `displot` (a figure-level function with similar flexibility) or `histplot` (an axes-level function for histograms).\n",
      "  warnings.warn(msg, FutureWarning)\n"
     ]
    },
    {
     "data": {
      "image/png": "[encoded data removed]",
      "text/plain": [
       "<Figure size 640x480 with 1 Axes>"
      ]
     },
     "metadata": {},
     "output_type": "display_data"
    }
   ],
   "source": [
    "sns_plot = sns.distplot(df['общ t проведенное в бк'], color='green')\n"
   ]
  },
  {
   "cell_type": "code",
   "execution_count": 43,
   "id": "a8880070",
   "metadata": {},
   "outputs": [
    {
     "name": "stderr",
     "output_type": "stream",
     "text": [
      "G:\\ANACONDA\\lib\\site-packages\\seaborn\\distributions.py:2619: FutureWarning: `distplot` is a deprecated function and will be removed in a future version. Please adapt your code to use either `displot` (a figure-level function with similar flexibility) or `histplot` (an axes-level function for histograms).\n",
      "  warnings.warn(msg, FutureWarning)\n"
     ]
    },
    {
     "data": {
      "image/png": "[encoded data removed]",
      "text/plain": [
       "<Figure size 640x480 with 1 Axes>"
      ]
     },
     "metadata": {},
     "output_type": "display_data"
    }
   ],
   "source": [
    "sns_plot = sns.distplot(df['общ t заказа'], color='blue')\n"
   ]
  },
  {
   "cell_type": "code",
   "execution_count": 44,
   "id": "16e6434b",
   "metadata": {},
   "outputs": [
    {
     "name": "stderr",
     "output_type": "stream",
     "text": [
      "G:\\ANACONDA\\lib\\site-packages\\seaborn\\distributions.py:2619: FutureWarning: `distplot` is a deprecated function and will be removed in a future version. Please adapt your code to use either `displot` (a figure-level function with similar flexibility) or `histplot` (an axes-level function for histograms).\n",
      "  warnings.warn(msg, FutureWarning)\n"
     ]
    },
    {
     "data": {
      "image/png": "[encoded data removed]",
      "text/plain": [
       "<Figure size 640x480 with 1 Axes>"
      ]
     },
     "metadata": {},
     "output_type": "display_data"
    }
   ],
   "source": [
    "sns_plot = sns.distplot(df['общ t в очереде'],color='orange')"
   ]
  },
  {
   "cell_type": "markdown",
   "id": "c84e064b",
   "metadata": {},
   "source": [
    "## Распределение Пуасонна"
   ]
  },
  {
   "cell_type": "code",
   "execution_count": 24,
   "id": "706468eb",
   "metadata": {},
   "outputs": [
    {
     "name": "stdout",
     "output_type": "stream",
     "text": [
      "Вероятность что t между отход и приход за кассу будет < 2 или меньше:  0.3963792107275509\n",
      "Вероятность что t между отход и приход за кассу будет > 2 или больше:  0.8505902031898408\n",
      "\n",
      "\n",
      "Вероятность что общ t проведенное в бк будет < 19 или меньше:  0.20253762425637242\n",
      "Вероятность что общ t проведенное в бк будет > 23 или больше:  0.5064411142626898\n",
      "\n",
      "\n",
      "Вероятность что общ t заказа будет < 2 или меньше:  0.3343613806830798\n",
      "Вероятность что общ t заказа будет > 4 или больше:  0.7389575797619542\n",
      "\n",
      "\n",
      "Вероятность что общ t в очереде будет < 1 или меньше:  0.11844343810187387\n",
      "Вероятность что общ t в очереде будет > 21 или больше:  0.9442379622885838\n"
     ]
    }
   ],
   "source": [
    "x_1 = poisson.rvs(mu=m1, size=59)\n",
    "print('Вероятность что t между отход и приход за кассу будет < 2 или меньше: ',poisson.cdf(k=1, mu=m1))\n",
    "print('Вероятность что t между отход и приход за кассу будет > 2 или больше: ', poisson.cdf(k=3, mu=m1))\n",
    "\n",
    "print('\\n')\n",
    "\n",
    "x_2 = poisson.rvs(mu=m1, size=59)\n",
    "print('Вероятность что общ t проведенное в бк будет < 19 или меньше: ', poisson.cdf(k=19, mu=m2))\n",
    "print('Вероятность что общ t проведенное в бк будет > 23 или больше: ', poisson.cdf(k=23, mu=m2))\n",
    "\n",
    "\n",
    "print('\\n')\n",
    "x_3 = poisson.rvs(mu=m2, size=59)\n",
    "print('Вероятность что общ t заказа будет < 2 или меньше: ', poisson.cdf(k=2, mu=m3))\n",
    "print('Вероятность что общ t заказа будет > 4 или больше: ', poisson.cdf(k=4, mu=m3))\n",
    "\n",
    "print('\\n')\n",
    "x_4 = poisson.rvs(mu=m4, size=59)\n",
    "print('Вероятность что общ t в очереде будет < 1 или меньше: ', poisson.cdf(k=6, mu=m4))\n",
    "print('Вероятность что общ t в очереде будет > 21 или больше: ', poisson.cdf(k=15, mu=m4))"
   ]
  },
  {
   "cell_type": "code",
   "execution_count": 25,
   "id": "59f830b1",
   "metadata": {},
   "outputs": [
    {
     "data": {
      "image/png": "[encoded data removed]",
      "text/plain": [
       "<Figure size 1000x700 with 4 Axes>"
      ]
     },
     "metadata": {},
     "output_type": "display_data"
    }
   ],
   "source": [
    "fig, ax = plt.subplots(nrows=2, ncols=2)\n",
    "\n",
    "ax[0][0].hist(x_1, density= True , edgecolor='black', color=\"red\", bins=6)\n",
    "ax[0][0].set_xlabel('Измеренные данные о t между отход и приход за кассу')\n",
    "ax[0][0].set_ylabel('Вероятность')\n",
    "#ax[0][0].axis([0, 5])\n",
    "\n",
    "ax[0][1].hist(x_2, density= True , edgecolor='black', color=\"green\", bins=6)\n",
    "ax[0][1].set_xlabel('Измеренные данные о общ t проведенное в бк')\n",
    "ax[0][1].set_ylabel('Вероятность')\n",
    "\n",
    "ax[1][0].hist(x_3, density= True , edgecolor='black', color=\"blue\", bins=6)\n",
    "ax[1][0].set_xlabel('Измеренные данные о общ t заказа')\n",
    "ax[1][0].set_ylabel('Вероятность')\n",
    "\n",
    "ax[1][1].hist(x_4, density= True , edgecolor='black', color=\"orange\", bins=6)\n",
    "ax[1][1].set_xlabel('Измеренные данные о общ t в очереде')\n",
    "ax[1][1].set_ylabel('Вероятность')\n",
    "\n",
    "\n",
    "fig.set_size_inches(10, 7)\n",
    "fig.subplots_adjust(wspace=0.5)\n",
    "plt.show()"
   ]
  },
  {
   "cell_type": "markdown",
   "id": "9c94eb6d",
   "metadata": {},
   "source": [
    "## Доверительный интервал"
   ]
  },
  {
   "cell_type": "markdown",
   "id": "565b377d",
   "metadata": {},
   "source": [
    "Confidence Interval = x(+/-)t*(s/√n) - **Формула для нахождения**"
   ]
  },
  {
   "cell_type": "code",
   "execution_count": 26,
   "id": "9b4a4863",
   "metadata": {},
   "outputs": [
    {
     "name": "stdout",
     "output_type": "stream",
     "text": [
      "Доверительный интервал для [t между отход и приход за кассу]:  (1.7321142623705066, 2.3396614134358806) \n",
      "\n",
      "Доверительный интервал для [общ t проведенное в бк]:  (22.612181257508716, 24.566081981850473) \n",
      "\n",
      "Доверительный интервал для [общ t заказа]:  (2.8793096394962454, 3.9767796728474676) \n",
      "\n",
      "Доверительный интервал для [общ t в очереде]:  (9.494607666810321, 10.891063321724808) \n",
      "\n"
     ]
    },
    {
     "name": "stderr",
     "output_type": "stream",
     "text": [
      "C:\\Users\\Кирилл\\AppData\\Local\\Temp\\ipykernel_11260\\3239358062.py:1: DeprecationWarning: Use of keyword argument `alpha` for method `interval` is deprecated. Use first positional argument or keyword argument `confidence` instead.\n",
      "  C_I_1 = st.t.interval(alpha=0.90, df=len(df['t между отход и приход за кассу'])-1,\n",
      "C:\\Users\\Кирилл\\AppData\\Local\\Temp\\ipykernel_11260\\3239358062.py:5: DeprecationWarning: Use of keyword argument `alpha` for method `interval` is deprecated. Use first positional argument or keyword argument `confidence` instead.\n",
      "  C_I_2 = st.t.interval(alpha=0.90, df=len(df['общ t проведенное в бк'])-1,\n",
      "C:\\Users\\Кирилл\\AppData\\Local\\Temp\\ipykernel_11260\\3239358062.py:9: DeprecationWarning: Use of keyword argument `alpha` for method `interval` is deprecated. Use first positional argument or keyword argument `confidence` instead.\n",
      "  C_I_3 = st.t.interval(alpha=0.90, df=len(df['общ t заказа'])-1,\n",
      "C:\\Users\\Кирилл\\AppData\\Local\\Temp\\ipykernel_11260\\3239358062.py:13: DeprecationWarning: Use of keyword argument `alpha` for method `interval` is deprecated. Use first positional argument or keyword argument `confidence` instead.\n",
      "  C_I_4 = st.t.interval(alpha=0.90, df=len(df['общ t в очереде'])-1,\n"
     ]
    }
   ],
   "source": [
    "C_I_1 = st.t.interval(alpha=0.90, df=len(df['t между отход и приход за кассу'])-1,\n",
    "              loc=np.mean(df['t между отход и приход за кассу']),\n",
    "              scale=st.sem(df['t между отход и приход за кассу']))\n",
    "\n",
    "C_I_2 = st.t.interval(alpha=0.90, df=len(df['общ t проведенное в бк'])-1,\n",
    "              loc=np.mean(df['общ t проведенное в бк']),\n",
    "              scale=st.sem(df['общ t проведенное в бк']))\n",
    "\n",
    "C_I_3 = st.t.interval(alpha=0.90, df=len(df['общ t заказа'])-1,\n",
    "              loc=np.mean(df['общ t заказа']),\n",
    "              scale=st.sem(df['общ t заказа']))\n",
    "\n",
    "C_I_4 = st.t.interval(alpha=0.90, df=len(df['общ t в очереде'])-1,\n",
    "              loc=np.mean(df['общ t в очереде']),\n",
    "              scale=st.sem(df['общ t в очереде']))\n",
    "\n",
    "\n",
    "print('Доверительный интервал для [t между отход и приход за кассу]: ', C_I_1, '\\n')\n",
    "print('Доверительный интервал для [общ t проведенное в бк]: ', C_I_2, '\\n')\n",
    "print('Доверительный интервал для [общ t заказа]: ', C_I_3, '\\n')\n",
    "print('Доверительный интервал для [общ t в очереде]: ', C_I_4, '\\n')"
   ]
  },
  {
   "cell_type": "markdown",
   "id": "1603a77a",
   "metadata": {},
   "source": [
    "## Мода"
   ]
  },
  {
   "cell_type": "code",
   "execution_count": 27,
   "id": "db918b04",
   "metadata": {},
   "outputs": [
    {
     "name": "stdout",
     "output_type": "stream",
     "text": [
      "Мода M0 для t между отход и приход за кассу: 6.503840272991324\n",
      "Мода M0 = для общ t проведенное в бк: 33.14424700875201\n",
      "Мода M0 = для общ t заказа: 10.580545501127148\n",
      "Мода M0 = для общ t в очереде: 19.16022226672008\n"
     ]
    }
   ],
   "source": [
    "print('Мода M0 для t между отход и приход за кассу:',np.max(df['t между отход и приход за кассу']))\n",
    "print('Мода M0 = для общ t проведенное в бк:',np.max(df['общ t проведенное в бк']))\n",
    "print('Мода M0 = для общ t заказа:',np.max(df['общ t заказа']))\n",
    "print('Мода M0 = для общ t в очереде:',np.max(df['общ t в очереде']))\n"
   ]
  },
  {
   "cell_type": "code",
   "execution_count": 28,
   "id": "0fc322bc",
   "metadata": {},
   "outputs": [
    {
     "data": {
      "image/png": "[encoded data removed]",
      "text/plain": [
       "<Figure size 1000x700 with 4 Axes>"
      ]
     },
     "metadata": {},
     "output_type": "display_data"
    }
   ],
   "source": [
    "#plt.plot(df['общ t в очереде'])\n",
    "\n",
    "fig, ax = plt.subplots(nrows=2, ncols=2)\n",
    "\n",
    "y = np.arange(0, 59)\n",
    "\n",
    "ax[0][0].plot(df['t между отход и приход за кассу'], color=\"red\")\n",
    "ax[0][0].set_xlabel('Измеренные данные о t между отход и приход за кассу')\n",
    "ax[0][0].set_ylabel('Данные')\n",
    "\n",
    "\n",
    "ax[0][1].plot(df['общ t проведенное в бк'], color=\"green\")\n",
    "ax[0][1].set_xlabel('Измеренные данные о общ t проведенное в бк')\n",
    "ax[0][1].set_ylabel('Данные')\n",
    "\n",
    "ax[1][0].plot(df['общ t заказа'], color=\"blue\")\n",
    "ax[1][0].set_xlabel('Измеренные данные о общ t заказа')\n",
    "ax[1][0].set_ylabel('Данные')\n",
    "\n",
    "ax[1][1].plot(df['общ t в очереде'], color=\"orange\")\n",
    "ax[1][1].set_xlabel('Измеренные данные о общ t в очереде')\n",
    "ax[1][1].set_ylabel('Данные')\n",
    "\n",
    "\n",
    "fig.set_size_inches(10, 7)\n",
    "fig.subplots_adjust(wspace=0.5)\n",
    "plt.show()"
   ]
  },
  {
   "cell_type": "markdown",
   "id": "6a8b5193",
   "metadata": {},
   "source": [
    "## Медианна\n"
   ]
  },
  {
   "cell_type": "code",
   "execution_count": 29,
   "id": "4dea2aeb",
   "metadata": {},
   "outputs": [
    {
     "name": "stdout",
     "output_type": "stream",
     "text": [
      "Медиана для [t между отход и приход за кассу]: 1.7426744942362065\n",
      "Медиана для [общ t проведенное в бк]: 23.46856508241467\n",
      "Медиана для [общ t заказа]: 3.01513164230198\n",
      "Медиана для [общ t в очереде]: 10.319103483849048\n"
     ]
    }
   ],
   "source": [
    "me1 = statistics.median(df['t между отход и приход за кассу'])\n",
    "me2 = statistics.median(df['общ t проведенное в бк'])\n",
    "me3 = statistics.median(df['общ t заказа'])\n",
    "me4 = statistics.median(df['общ t в очереде'])\n",
    "\n",
    "print('Медиана для [t между отход и приход за кассу]:',me1)\n",
    "print('Медиана для [общ t проведенное в бк]:',me2)\n",
    "print('Медиана для [общ t заказа]:',me3)\n",
    "print('Медиана для [общ t в очереде]:',me4)"
   ]
  },
  {
   "cell_type": "markdown",
   "id": "4767c4a5",
   "metadata": {},
   "source": [
    "## По хи квадрату "
   ]
  },
  {
   "cell_type": "markdown",
   "id": "854659ef",
   "metadata": {},
   "source": [
    "**Проверить со значениями Шапиро**"
   ]
  },
  {
   "cell_type": "code",
   "execution_count": 47,
   "id": "349d3d19",
   "metadata": {},
   "outputs": [],
   "source": [
    "stolb1 = df1\n",
    "stolb2 = df2\n",
    "stolb3 = df3\n",
    "stolb4 = df4\n"
   ]
  },
  {
   "cell_type": "code",
   "execution_count": 48,
   "id": "8a7159fe",
   "metadata": {},
   "outputs": [
    {
     "name": "stdout",
     "output_type": "stream",
     "text": [
      "NormaltestResult(statistic=11.149367305098998, pvalue=0.0037926751955199697)\n",
      "NormaltestResult(statistic=1.270056284233392, pvalue=0.5299205750210618)\n",
      "NormaltestResult(statistic=5.561109977433288, pvalue=0.06200408625831626)\n",
      "NormaltestResult(statistic=1.1228881658148888, pvalue=0.5703847859092194)\n"
     ]
    }
   ],
   "source": [
    "xikk1 = sc.stats.normaltest(stolb1)\n",
    "xikk2 = sc.stats.normaltest(stolb2)\n",
    "xikk3 = sc.stats.normaltest(stolb3)\n",
    "xikk4 = sc.stats.normaltest(stolb4)\n",
    "print(xikk1)\n",
    "print(xikk2)\n",
    "print(xikk3)\n",
    "print(xikk4)"
   ]
  },
  {
   "cell_type": "markdown",
   "id": "26b58b72",
   "metadata": {},
   "source": [
    "**Значения**"
   ]
  },
  {
   "cell_type": "code",
   "execution_count": 49,
   "id": "80fb39db",
   "metadata": {},
   "outputs": [
    {
     "name": "stdout",
     "output_type": "stream",
     "text": [
      "Мат ожидание 2.0358878379031933 23.589131619679595 3.428044656171858 10.192835494267563\n",
      "Среднее отклонение 1.3840248894286893 4.451090305039968 2.5000954064169147 3.1812006360262206\n"
     ]
    }
   ],
   "source": [
    "print('Мат ожидание',m1, m2, m3, m4)\n",
    "print('Среднее отклонение', srz1, srz2, srz3, srz4)"
   ]
  },
  {
   "cell_type": "code",
   "execution_count": 50,
   "id": "14a94c02",
   "metadata": {},
   "outputs": [
    {
     "data": {
      "text/plain": [
       "2.718281828459045"
      ]
     },
     "execution_count": 50,
     "metadata": {},
     "output_type": "execute_result"
    }
   ],
   "source": [
    "pi = math.pi\n",
    "ex = math.e\n",
    "ex"
   ]
  },
  {
   "cell_type": "code",
   "execution_count": 51,
   "id": "c9528dc6",
   "metadata": {},
   "outputs": [
    {
     "data": {
      "text/plain": [
       "6.503840272991324"
      ]
     },
     "execution_count": 51,
     "metadata": {},
     "output_type": "execute_result"
    }
   ],
   "source": [
    "np.max(stolb1)"
   ]
  },
  {
   "cell_type": "code",
   "execution_count": null,
   "id": "448403b1",
   "metadata": {},
   "outputs": [],
   "source": []
  },
  {
   "cell_type": "markdown",
   "id": "6f886bef",
   "metadata": {},
   "source": [
    "## Большое F(x)"
   ]
  },
  {
   "cell_type": "code",
   "execution_count": 52,
   "id": "40b0cb89",
   "metadata": {},
   "outputs": [],
   "source": [
    "v1_1 = stolb1.loc[(stolb1 > 1) & (stolb1 < 1.3)]\n",
    "v1_2 = stolb1.loc[(stolb1 > 2) & (stolb1 < 2.4)]\n",
    "v1_3 = stolb1.loc[(stolb1 > 3) & (stolb1 < 3.5)]\n",
    "v1_4 = stolb1.loc[(stolb1 > 3.5) & (stolb1 < 4.2)]\n",
    "v1_5 = stolb1.loc[(stolb1 > 4) & (stolb1 < 5.6)]\n",
    "\n",
    "\n",
    "v2_1 = stolb2.loc[(stolb2 > 14) & (stolb2 < 18)]\n",
    "v2_2 = stolb2.loc[(stolb2 > 17) & (stolb2 < 19)]\n",
    "v2_3 = stolb2.loc[(stolb2 > 20) & (stolb2 < 22)]\n",
    "v2_4 = stolb2.loc[(stolb2 > 23.5) & (stolb2 < 25.4)]\n",
    "v2_5 = stolb2.loc[(stolb2 > 25) & (stolb2 < 26.5)]\n",
    "\n",
    "v3_1 = stolb3.loc[(stolb3 > 1) & (stolb3 < 1.6)]\n",
    "v3_2 = stolb3.loc[(stolb3 > 2.2) & (stolb3 < 3)]\n",
    "v3_3 = stolb3.loc[(stolb3 > 2.8) & (stolb3 < 4.5)]\n",
    "v3_4 = stolb3.loc[(stolb3 > 4.5) & (stolb3 < 6)]\n",
    "v3_5 = stolb3.loc[(stolb3 > 6) & (stolb3 < 8)]\n",
    "\n",
    "\n",
    "\n",
    "v4_1 = stolb4.loc[(stolb4 > 2) & (stolb4 < 5)]\n",
    "v4_2 = stolb4.loc[(stolb4 > 5) & (stolb4 < 6)]\n",
    "v4_3 = stolb4.loc[(stolb4 > 7.5) & (stolb4 < 8)]\n",
    "v4_4 = stolb4.loc[(stolb4 > 8) & (stolb4 < 11)]\n",
    "v4_5 = stolb4.loc[(stolb4 > 11) & (stolb4 < 14)]\n",
    "\n",
    "\n"
   ]
  },
  {
   "cell_type": "code",
   "execution_count": 53,
   "id": "c0f25e64",
   "metadata": {},
   "outputs": [
    {
     "data": {
      "text/plain": [
       "23.589131619679595"
      ]
     },
     "execution_count": 53,
     "metadata": {},
     "output_type": "execute_result"
    }
   ],
   "source": [
    "m2\n"
   ]
  },
  {
   "cell_type": "code",
   "execution_count": 54,
   "id": "e028ec2e",
   "metadata": {},
   "outputs": [
    {
     "data": {
      "text/plain": [
       "19.812204903620795"
      ]
     },
     "execution_count": 54,
     "metadata": {},
     "output_type": "execute_result"
    }
   ],
   "source": [
    "d2"
   ]
  },
  {
   "cell_type": "code",
   "execution_count": 55,
   "id": "7a95c55f",
   "metadata": {},
   "outputs": [
    {
     "data": {
      "text/plain": [
       "4.451090305039968"
      ]
     },
     "execution_count": 55,
     "metadata": {},
     "output_type": "execute_result"
    }
   ],
   "source": [
    "srz2"
   ]
  },
  {
   "cell_type": "code",
   "execution_count": 56,
   "id": "466a336d",
   "metadata": {},
   "outputs": [
    {
     "data": {
      "text/plain": [
       "8     17.792451\n",
       "13    15.257531\n",
       "40    16.788861\n",
       "44    16.173113\n",
       "55    15.182660\n",
       "Name: общ t проведенное в бк, dtype: float64"
      ]
     },
     "execution_count": 56,
     "metadata": {},
     "output_type": "execute_result"
    }
   ],
   "source": [
    "v2_1"
   ]
  },
  {
   "cell_type": "code",
   "execution_count": 57,
   "id": "348319fe",
   "metadata": {},
   "outputs": [
    {
     "data": {
      "text/plain": [
       "5"
      ]
     },
     "execution_count": 57,
     "metadata": {},
     "output_type": "execute_result"
    }
   ],
   "source": [
    "len(v2_1)"
   ]
  },
  {
   "cell_type": "code",
   "execution_count": 60,
   "id": "4caef6af",
   "metadata": {},
   "outputs": [
    {
     "data": {
      "text/plain": [
       "8     17.792451\n",
       "13    15.257531\n",
       "40    16.788861\n",
       "44    16.173113\n",
       "55    15.182660\n",
       "Name: общ t проведенное в бк, dtype: float64"
      ]
     },
     "execution_count": 60,
     "metadata": {},
     "output_type": "execute_result"
    }
   ],
   "source": [
    "v2_1"
   ]
  },
  {
   "cell_type": "markdown",
   "id": "fb60a3df",
   "metadata": {},
   "source": [
    "Для 1 выборки"
   ]
  },
  {
   "cell_type": "code",
   "execution_count": 58,
   "id": "fef7dee8",
   "metadata": {},
   "outputs": [
    {
     "data": {
      "text/plain": [
       "17.45338617384117"
      ]
     },
     "execution_count": 58,
     "metadata": {},
     "output_type": "execute_result"
    }
   ],
   "source": [
    "fn2_1 = (15 - m2)/srz2\n",
    "fk2_1 = (17 - m2)/srz2\n",
    "\n",
    "pteor2_1 = fk2_1-fn2_1\n",
    "\n",
    "\n",
    "nteor2_1 = 59*pteor2_1\n",
    "\n",
    "xnabl2_1 = ((5-nteor2_1)**2)/(nteor2_1)\n",
    "\n",
    "xnabl2_1"
   ]
  },
  {
   "cell_type": "code",
   "execution_count": 59,
   "id": "6048e43c",
   "metadata": {},
   "outputs": [
    {
     "data": {
      "text/plain": [
       "7"
      ]
     },
     "execution_count": 59,
     "metadata": {},
     "output_type": "execute_result"
    }
   ],
   "source": [
    "len(v2_2)"
   ]
  },
  {
   "cell_type": "code",
   "execution_count": 139,
   "id": "39370d0b",
   "metadata": {},
   "outputs": [
    {
     "data": {
      "text/plain": [
       "2.951847502860556"
      ]
     },
     "execution_count": 139,
     "metadata": {},
     "output_type": "execute_result"
    }
   ],
   "source": [
    "fn2_2 = (17 - m2)/srz2\n",
    "fk2_2 = (18 - m2)/srz2\n",
    "\n",
    "pteor2_2 = fk2_2-fn2_2\n",
    "\n",
    "\n",
    "nteor2_2 = 59*pteor2_2\n",
    "\n",
    "xnabl2_2 = ((7-nteor2_2)**2)/(nteor2_2)\n",
    "\n",
    "xnabl2_2"
   ]
  },
  {
   "cell_type": "code",
   "execution_count": 141,
   "id": "e48b93e4",
   "metadata": {},
   "outputs": [
    {
     "data": {
      "text/plain": [
       "8"
      ]
     },
     "execution_count": 141,
     "metadata": {},
     "output_type": "execute_result"
    }
   ],
   "source": [
    "len(v2_3)"
   ]
  },
  {
   "cell_type": "code",
   "execution_count": 142,
   "id": "c18106b8",
   "metadata": {},
   "outputs": [
    {
     "data": {
      "text/plain": [
       "2.0834806312605525"
      ]
     },
     "execution_count": 142,
     "metadata": {},
     "output_type": "execute_result"
    }
   ],
   "source": [
    "fn2_3 = (20 - m2)/srz2\n",
    "fk2_3 = (21 - m2)/srz2\n",
    "\n",
    "pteor2_3 = fk2_3-fn2_3\n",
    "\n",
    "nteor2_3 = 59*pteor2_3\n",
    "\n",
    "xnabl2_3 = ((8-nteor2_3)**2)/(nteor2_3)\n",
    "\n",
    "xnabl2_3"
   ]
  },
  {
   "cell_type": "code",
   "execution_count": 144,
   "id": "4450beca",
   "metadata": {},
   "outputs": [
    {
     "data": {
      "text/plain": [
       "8"
      ]
     },
     "execution_count": 144,
     "metadata": {},
     "output_type": "execute_result"
    }
   ],
   "source": [
    "len(v2_4)"
   ]
  },
  {
   "cell_type": "code",
   "execution_count": 146,
   "id": "35008a5f",
   "metadata": {},
   "outputs": [
    {
     "data": {
      "text/plain": [
       "12.924509240761152"
      ]
     },
     "execution_count": 146,
     "metadata": {},
     "output_type": "execute_result"
    }
   ],
   "source": [
    "fn2_4 = (23 - m2)/srz2\n",
    "fk2_4 = (25 - m2)/srz2\n",
    "\n",
    "pteor2_4 = fk2_4-fn2_4\n",
    "\n",
    "nteor2_4 = 59*pteor2_4\n",
    "\n",
    "xnabl2_4 = ((8-nteor2_4)**2)/(nteor2_4)\n",
    "\n",
    "xnabl2_4"
   ]
  },
  {
   "cell_type": "code",
   "execution_count": 151,
   "id": "4b25cb6d",
   "metadata": {},
   "outputs": [
    {
     "data": {
      "text/plain": [
       "7"
      ]
     },
     "execution_count": 151,
     "metadata": {},
     "output_type": "execute_result"
    }
   ],
   "source": [
    "len(v2_5)"
   ]
  },
  {
   "cell_type": "code",
   "execution_count": 150,
   "id": "f8733fe6",
   "metadata": {},
   "outputs": [
    {
     "data": {
      "text/plain": [
       "7     25.266167\n",
       "19    25.438080\n",
       "39    25.473559\n",
       "45    26.000131\n",
       "49    25.277034\n",
       "50    26.075889\n",
       "53    25.268593\n",
       "Name: общ t проведенное в бк, dtype: float64"
      ]
     },
     "execution_count": 150,
     "metadata": {},
     "output_type": "execute_result"
    }
   ],
   "source": [
    "v2_5"
   ]
  },
  {
   "cell_type": "code",
   "execution_count": 154,
   "id": "8d4f0736",
   "metadata": {},
   "outputs": [
    {
     "data": {
      "text/plain": [
       "2.951847502860561"
      ]
     },
     "execution_count": 154,
     "metadata": {},
     "output_type": "execute_result"
    }
   ],
   "source": [
    "fn2_5 = (25 - m2)/srz2\n",
    "fk2_5 = (26 - m2)/srz2\n",
    "\n",
    "pteor2_5 = fk2_5-fn2_5\n",
    "\n",
    "nteor2_5 = 59*pteor2_5\n",
    "\n",
    "xnabl2_5 = ((7-nteor2_5)**2)/(nteor2_5)\n",
    "\n",
    "xnabl2_5"
   ]
  },
  {
   "cell_type": "code",
   "execution_count": 160,
   "id": "d9fb1707",
   "metadata": {},
   "outputs": [
    {
     "data": {
      "text/plain": [
       "7"
      ]
     },
     "execution_count": 160,
     "metadata": {},
     "output_type": "execute_result"
    }
   ],
   "source": [
    "len(v2_5\n",
    "   )"
   ]
  },
  {
   "cell_type": "code",
   "execution_count": 165,
   "id": "daf8ae21",
   "metadata": {},
   "outputs": [
    {
     "name": "stdout",
     "output_type": "stream",
     "text": [
      "7.8 И 38.36507105158399\n"
     ]
    }
   ],
   "source": [
    "xnabl2_1 = ((5-nteor2_1)**2)/(nteor2_1)\n",
    "xnabl2_2 = ((7-nteor2_2)**2)/(nteor2_2)\n",
    "xnabl2_3 = ((8-nteor2_3)**2)/(nteor2_3)\n",
    "xnabl2_4 = ((8-nteor2_4)**2)/(nteor2_4)\n",
    "xnabl2_5 = ((7-nteor2_5)**2)/(nteor2_5)\n",
    "\n",
    "xnabsh2 = xnabl2_1 + xnabl2_2 + xnabl2_3 + xnabl2_4 + xnabl2_5 \n",
    "print(xkrit2, 'И', xnabsh2)"
   ]
  },
  {
   "cell_type": "code",
   "execution_count": 192,
   "id": "409f7d78",
   "metadata": {},
   "outputs": [
    {
     "data": {
      "text/plain": [
       "5"
      ]
     },
     "execution_count": 192,
     "metadata": {},
     "output_type": "execute_result"
    }
   ],
   "source": [
    "len(v2_1)"
   ]
  },
  {
   "cell_type": "code",
   "execution_count": 169,
   "id": "e97df09a",
   "metadata": {},
   "outputs": [
    {
     "name": "stdout",
     "output_type": "stream",
     "text": [
      "4.994849288913184 19.16022226672008\n"
     ]
    }
   ],
   "source": [
    "print(min(v4_1),max(v4_1), )"
   ]
  },
  {
   "cell_type": "code",
   "execution_count": 200,
   "id": "61fe78b0",
   "metadata": {},
   "outputs": [
    {
     "data": {
      "text/plain": [
       "45"
      ]
     },
     "execution_count": 200,
     "metadata": {},
     "output_type": "execute_result"
    }
   ],
   "source": [
    "len(v4_1)"
   ]
  },
  {
   "cell_type": "code",
   "execution_count": null,
   "id": "4405dd8d",
   "metadata": {},
   "outputs": [],
   "source": [
    "stolb1"
   ]
  },
  {
   "cell_type": "code",
   "execution_count": 205,
   "id": "35b9d2b4",
   "metadata": {},
   "outputs": [
    {
     "data": {
      "text/plain": [
       "array([ 1.81326976,  4.18372201,  4.99484929,  5.65147076,  5.82116757,\n",
       "        6.4449544 ,  6.44729492,  6.52959695,  6.665082  ,  7.1933726 ,\n",
       "        7.25238608,  7.25368258,  7.26094797,  7.79272841,  7.80411959,\n",
       "        7.84179014,  8.23300719,  8.45678384,  8.62642956,  9.06412145,\n",
       "        9.13333002,  9.37406044,  9.39179093,  9.46442254,  9.86477309,\n",
       "        9.94921965, 10.18483247, 10.22806586, 10.24784628, 10.31910348,\n",
       "       10.56070928, 10.59460806, 10.6224525 , 10.8731784 , 10.87637743,\n",
       "       10.99530957, 11.04447298, 11.19870381, 11.20088382, 11.26063871,\n",
       "       11.2696241 , 11.49885318, 11.65924473, 11.88805734, 12.06716509,\n",
       "       12.15634492, 12.45650952, 12.47324041, 12.62455002, 13.23015939,\n",
       "       13.30693099, 13.31381177, 14.10339466, 14.8209338 , 14.84110388,\n",
       "       15.19843543, 16.14259715, 16.45055912, 19.16022227])"
      ]
     },
     "execution_count": 205,
     "metadata": {},
     "output_type": "execute_result"
    }
   ],
   "source": [
    "np.sort(stolb4)"
   ]
  },
  {
   "cell_type": "code",
   "execution_count": 223,
   "id": "ca3f9f25",
   "metadata": {},
   "outputs": [
    {
     "data": {
      "text/plain": [
       "2"
      ]
     },
     "execution_count": 223,
     "metadata": {},
     "output_type": "execute_result"
    }
   ],
   "source": [
    "len(v4_2)"
   ]
  },
  {
   "cell_type": "code",
   "execution_count": 222,
   "id": "829ba9cf",
   "metadata": {},
   "outputs": [
    {
     "data": {
      "text/plain": [
       "88.775418659524"
      ]
     },
     "execution_count": 222,
     "metadata": {},
     "output_type": "execute_result"
    }
   ],
   "source": [
    "fn4_1 = (0 - m4)/srz4\n",
    "fk4_1 = (5 - m4)/srz4\n",
    "\n",
    "pteor4_1 = fk4_1-fn4_1\n",
    "\n",
    "\n",
    "nteor4_1 = 59*pteor4_1\n",
    "\n",
    "xnabl4_1 = ((2-nteor4_1)**2)/(nteor4_1)\n",
    "\n",
    "xnabl4_1"
   ]
  },
  {
   "cell_type": "code",
   "execution_count": 175,
   "id": "767e0dd1",
   "metadata": {},
   "outputs": [
    {
     "name": "stdout",
     "output_type": "stream",
     "text": [
      "5.651470763806488 19.16022226672008\n"
     ]
    }
   ],
   "source": [
    "print(min(v4_2),max(v4_2), )"
   ]
  },
  {
   "cell_type": "code",
   "execution_count": 225,
   "id": "968e4816",
   "metadata": {},
   "outputs": [
    {
     "data": {
      "text/plain": [
       "2"
      ]
     },
     "execution_count": 225,
     "metadata": {},
     "output_type": "execute_result"
    }
   ],
   "source": [
    "len(v4_2)"
   ]
  },
  {
   "cell_type": "code",
   "execution_count": 224,
   "id": "edbff2d5",
   "metadata": {},
   "outputs": [
    {
     "data": {
      "text/plain": [
       "33.20075080395407"
      ]
     },
     "execution_count": 224,
     "metadata": {},
     "output_type": "execute_result"
    }
   ],
   "source": [
    "fn4_2 = (5 - m4)/srz4\n",
    "fk4_2 = (7 - m4)/srz4\n",
    "\n",
    "pteor4_2 = fk4_2-fn4_2\n",
    "\n",
    "\n",
    "nteor4_2 = 59*pteor4_2\n",
    "\n",
    "xnabl4_2 = ((2-nteor4_2)**2)/(nteor4_2)\n",
    "\n",
    "xnabl4_2"
   ]
  },
  {
   "cell_type": "code",
   "execution_count": 178,
   "id": "e57c38a9",
   "metadata": {},
   "outputs": [
    {
     "name": "stdout",
     "output_type": "stream",
     "text": [
      "7.792728409684383 19.16022226672008\n"
     ]
    }
   ],
   "source": [
    "print(min(v4_3),max(v4_3) )"
   ]
  },
  {
   "cell_type": "code",
   "execution_count": 226,
   "id": "d2b608ea",
   "metadata": {},
   "outputs": [
    {
     "data": {
      "text/plain": [
       "3"
      ]
     },
     "execution_count": 226,
     "metadata": {},
     "output_type": "execute_result"
    }
   ],
   "source": [
    "len(v4_3)"
   ]
  },
  {
   "cell_type": "code",
   "execution_count": 209,
   "id": "877dac74",
   "metadata": {},
   "outputs": [
    {
     "data": {
      "text/plain": [
       "25    7.792728\n",
       "39    7.841790\n",
       "50    7.804120\n",
       "Name: общ t в очереде, dtype: float64"
      ]
     },
     "execution_count": 209,
     "metadata": {},
     "output_type": "execute_result"
    }
   ],
   "source": [
    "v4_3"
   ]
  },
  {
   "cell_type": "code",
   "execution_count": 227,
   "id": "40a070d5",
   "metadata": {},
   "outputs": [
    {
     "data": {
      "text/plain": [
       "13.031724640760254"
      ]
     },
     "execution_count": 227,
     "metadata": {},
     "output_type": "execute_result"
    }
   ],
   "source": [
    "fn4_3 = (7 - m4)/srz4\n",
    "fk4_3 = (8 - m4)/srz4\n",
    "\n",
    "pteor4_3 = fk4_3-fn4_3\n",
    "\n",
    "\n",
    "nteor4_3 = 59*pteor4_3\n",
    "\n",
    "xnabl4_3 = ((3-nteor4_3)**2)/(nteor4_3)\n",
    "\n",
    "xnabl4_3"
   ]
  },
  {
   "cell_type": "code",
   "execution_count": 212,
   "id": "84ff4145",
   "metadata": {},
   "outputs": [
    {
     "name": "stdout",
     "output_type": "stream",
     "text": [
      "8.233007188982183 10.99530957201199\n"
     ]
    }
   ],
   "source": [
    "print(min(v4_4),max(v4_4) )"
   ]
  },
  {
   "cell_type": "code",
   "execution_count": 228,
   "id": "ec0b2b69",
   "metadata": {},
   "outputs": [
    {
     "data": {
      "text/plain": [
       "20"
      ]
     },
     "execution_count": 228,
     "metadata": {},
     "output_type": "execute_result"
    }
   ],
   "source": [
    "len(v4_4)"
   ]
  },
  {
   "cell_type": "code",
   "execution_count": 211,
   "id": "da2f9394",
   "metadata": {},
   "outputs": [
    {
     "data": {
      "text/plain": [
       "3      8.456784\n",
       "5     10.228066\n",
       "9      9.391791\n",
       "11    10.560709\n",
       "13    10.594608\n",
       "14     9.133330\n",
       "16     9.064121\n",
       "18     8.626430\n",
       "20     8.233007\n",
       "22    10.184832\n",
       "27    10.876377\n",
       "28    10.319103\n",
       "31    10.247846\n",
       "36    10.622453\n",
       "37     9.374060\n",
       "42    10.995310\n",
       "45     9.464423\n",
       "48     9.949220\n",
       "49     9.864773\n",
       "55    10.873178\n",
       "Name: общ t в очереде, dtype: float64"
      ]
     },
     "execution_count": 211,
     "metadata": {},
     "output_type": "execute_result"
    }
   ],
   "source": [
    "v4_4"
   ]
  },
  {
   "cell_type": "code",
   "execution_count": 229,
   "id": "0e81eaa3",
   "metadata": {},
   "outputs": [
    {
     "data": {
      "text/plain": [
       "22.828524221107685"
      ]
     },
     "execution_count": 229,
     "metadata": {},
     "output_type": "execute_result"
    }
   ],
   "source": [
    "fn4_4 = (8 - m4)/srz4\n",
    "fk4_4 = (11 - m4)/srz4\n",
    "\n",
    "pteor4_4 = fk4_4-fn4_4\n",
    "\n",
    "\n",
    "nteor4_4 = 59*pteor4_4\n",
    "\n",
    "xnabl4_4 = ((20-nteor4_4)**2)/(nteor4_4)\n",
    "\n",
    "xnabl4_4"
   ]
  },
  {
   "cell_type": "code",
   "execution_count": 213,
   "id": "0aaaef83",
   "metadata": {},
   "outputs": [
    {
     "name": "stdout",
     "output_type": "stream",
     "text": [
      "11.044472981953525 13.313811773900404\n"
     ]
    }
   ],
   "source": [
    "print(min(v4_5),max(v4_5) )"
   ]
  },
  {
   "cell_type": "code",
   "execution_count": 230,
   "id": "2cac3281",
   "metadata": {},
   "outputs": [
    {
     "data": {
      "text/plain": [
       "16"
      ]
     },
     "execution_count": 230,
     "metadata": {},
     "output_type": "execute_result"
    }
   ],
   "source": [
    "len(v4_5)"
   ]
  },
  {
   "cell_type": "code",
   "execution_count": 231,
   "id": "f9ba294d",
   "metadata": {},
   "outputs": [
    {
     "data": {
      "text/plain": [
       "28.24042878840839"
      ]
     },
     "execution_count": 231,
     "metadata": {},
     "output_type": "execute_result"
    }
   ],
   "source": [
    "fn4_5 = (11 - m4)/srz4\n",
    "fk4_5 = (14 - m4)/srz4\n",
    "\n",
    "pteor4_5 = fk4_5-fn4_5\n",
    "\n",
    "\n",
    "nteor4_5 = 59*pteor4_5\n",
    "\n",
    "xnabl4_5 = ((16-nteor4_5)**2)/(nteor4_5)\n",
    "\n",
    "xnabl4_5"
   ]
  },
  {
   "cell_type": "code",
   "execution_count": 232,
   "id": "f43757c1",
   "metadata": {},
   "outputs": [
    {
     "name": "stdout",
     "output_type": "stream",
     "text": [
      "7.8 И 127.28403025433833\n"
     ]
    }
   ],
   "source": [
    "xnabl4_1 = ((5-xnabl4_1)**2)/(xnabl4_1)\n",
    "xnabl4_2 = ((7-xnabl4_2)**2)/(xnabl4_2)\n",
    "xnabl4_3 = ((8-xnabl4_3)**2)/(xnabl4_3)\n",
    "xnabl4_4 = ((8-xnabl4_4)**2)/(xnabl4_4)\n",
    "xnabl4_5 = ((7-xnabl4_5)**2)/(xnabl4_5)\n",
    "\n",
    "xnabsh4 = xnabl4_1 + xnabl4_2 +  xnabl4_3 +  xnabl4_4 +  xnabl4_5\n",
    "print(xkrit4, 'И', xnabsh4)"
   ]
  },
  {
   "cell_type": "code",
   "execution_count": null,
   "id": "3bb24722",
   "metadata": {},
   "outputs": [],
   "source": [
    "ni - это количсество по гист"
   ]
  },
  {
   "cell_type": "markdown",
   "id": "20ac2195",
   "metadata": {},
   "source": [
    "**1 по хи квадрату**"
   ]
  },
  {
   "cell_type": "code",
   "execution_count": 58,
   "id": "ba1dcb5e",
   "metadata": {},
   "outputs": [
    {
     "ename": "NameError",
     "evalue": "name 'v1_1' is not defined",
     "output_type": "error",
     "traceback": [
      "\u001b[1;31m---------------------------------------------------------------------------\u001b[0m",
      "\u001b[1;31mNameError\u001b[0m                                 Traceback (most recent call last)",
      "\u001b[1;32m~\\AppData\\Local\\Temp\\ipykernel_1176\\3993063282.py\u001b[0m in \u001b[0;36m<module>\u001b[1;34m\u001b[0m\n\u001b[1;32m----> 1\u001b[1;33m \u001b[0mlen\u001b[0m\u001b[1;33m(\u001b[0m\u001b[0mv1_1\u001b[0m\u001b[1;33m)\u001b[0m\u001b[1;33m\u001b[0m\u001b[1;33m\u001b[0m\u001b[0m\n\u001b[0m",
      "\u001b[1;31mNameError\u001b[0m: name 'v1_1' is not defined"
     ]
    }
   ],
   "source": [
    "len(v1_1)"
   ]
  },
  {
   "cell_type": "code",
   "execution_count": 59,
   "id": "4fb1b83b",
   "metadata": {},
   "outputs": [],
   "source": [
    "v1_1 = stolb1.loc[(stolb1 > 1) & (stolb1 < 1.3)]\n",
    "v1_2 = stolb1.loc[(stolb1 > 2) & (stolb1 < 2.4)]\n",
    "v1_3 = stolb1.loc[(stolb1 > 3) & (stolb1 < 3.5)]\n",
    "v1_4 = stolb1.loc[(stolb1 > 3.5) & (stolb1 < 4.2)]\n",
    "v1_5 = stolb1.loc[(stolb1 > 4) & (stolb1 < 5.6)]\n",
    "\n",
    "\n",
    "v2_1 = stolb2.loc[(stolb2 > 14) & (stolb2 < 18)]\n",
    "v2_2 = stolb2.loc[(stolb2 > 17) & (stolb2 < 19)]\n",
    "v2_3 = stolb2.loc[(stolb2 > 20) & (stolb2 < 22)]\n",
    "v2_4 = stolb2.loc[(stolb2 > 23.5) & (stolb2 < 25.4)]\n",
    "v2_5 = stolb2.loc[(stolb2 > 25) & (stolb2 < 26.5)]\n",
    "\n",
    "v3_1 = stolb3.loc[(stolb3 > 1) & (stolb3 < 1.6)]\n",
    "v3_2 = stolb3.loc[(stolb3 > 2.2) & (stolb3 < 3)]\n",
    "v3_3 = stolb3.loc[(stolb3 > 2.8) & (stolb3 < 4.5)]\n",
    "v3_4 = stolb3.loc[(stolb3 > 4.5) & (stolb3 < 6)]\n",
    "v3_5 = stolb3.loc[(stolb3 > 6) & (stolb3 < 8)]\n",
    "\n",
    "\n",
    "\n",
    "v4_1 = stolb4.loc[(stolb4 > 2) & (stolb3 < 5)]\n",
    "v4_2 = stolb4.loc[(stolb4 > 5) & (stolb3 < 6)]\n",
    "v4_3 = stolb4.loc[(stolb4 > 7.5) & (stolb3 < 8)]\n",
    "v4_4 = stolb4.loc[(stolb4 > 8) & (stolb3 < 11)]\n",
    "v4_5 = stolb4.loc[(stolb4 > 11) & (stolb3 < 14)]\n"
   ]
  },
  {
   "cell_type": "markdown",
   "id": "f677b0d9",
   "metadata": {},
   "source": [
    "**Общее число случаев - n**"
   ]
  },
  {
   "cell_type": "code",
   "execution_count": 60,
   "id": "07c35ad7",
   "metadata": {},
   "outputs": [
    {
     "data": {
      "text/plain": [
       "1.2063327885306019"
      ]
     },
     "execution_count": 60,
     "metadata": {},
     "output_type": "execute_result"
    }
   ],
   "source": [
    "n1 = len(v1_1) + len(v1_2) + len(v1_3)+ len(v1_4)+ len(v1_5)\n",
    "n2 = len(v2_1) + len(v2_2) + len(v2_3)+ len(v2_4)+ len(v2_5)\n",
    "n3 = len(v3_1) + len(v3_2) + len(v3_3)+ len(v3_4)+ len(v3_5)\n",
    "n4 = len(v4_1) + len(v4_2) + len(v4_3)+ len(v4_4)+ len(v4_5)\n",
    "\n",
    "i1_1 = statistics.median(v1_1)\n",
    "i1_2 = statistics.median(v1_2)\n",
    "i1_3 = statistics.median(v1_3)\n",
    "i1_4 = statistics.median(v1_4)\n",
    "i1_5 = statistics.median(v1_5)\n",
    "\n",
    "i2_1 = statistics.median(v2_1)\n",
    "i2_2 = statistics.median(v2_2)\n",
    "i2_3 = statistics.median(v2_3)\n",
    "i2_4 = statistics.median(v2_4)\n",
    "i2_5 = statistics.median(v2_5)\n",
    "\n",
    "i3_1 = statistics.median(v3_1)\n",
    "i3_2 = statistics.median(v3_2)\n",
    "i3_3 = statistics.median(v3_3)\n",
    "i3_4 = statistics.median(v3_4)\n",
    "i3_5 = statistics.median(v3_5)\n",
    "\n",
    "i4_1 = statistics.median(v4_1)\n",
    "i4_2 = statistics.median(v4_2)\n",
    "i4_3 = statistics.median(v4_3)\n",
    "i4_4 = statistics.median(v4_4)\n",
    "i4_5 = statistics.median(v4_5)\n",
    "\n",
    "\n",
    "k =  5 - 2\n",
    "\n",
    "\n",
    "\n",
    "xs1 = ((len(v1_1)*0 + len(v1_2)*1 + len(v1_3)*2 + len(v1_4)*3 + len(v1_5)*4))/n1\n",
    "\n",
    "i1_1"
   ]
  },
  {
   "cell_type": "code",
   "execution_count": 82,
   "id": "79f406f4",
   "metadata": {},
   "outputs": [
    {
     "data": {
      "text/plain": [
       "1.2063327885306019"
      ]
     },
     "execution_count": 82,
     "metadata": {},
     "output_type": "execute_result"
    }
   ],
   "source": [
    "i1_1"
   ]
  },
  {
   "cell_type": "code",
   "execution_count": 79,
   "id": "f8992cf0",
   "metadata": {},
   "outputs": [
    {
     "data": {
      "text/plain": [
       "2.0358878379031933"
      ]
     },
     "execution_count": 79,
     "metadata": {},
     "output_type": "execute_result"
    }
   ],
   "source": [
    "m1"
   ]
  },
  {
   "cell_type": "code",
   "execution_count": 62,
   "id": "a895f286",
   "metadata": {},
   "outputs": [
    {
     "name": "stdout",
     "output_type": "stream",
     "text": [
      "Хнабл > Xкрит - Нормальное распределение\n",
      "Хнабл < Xкрит - Пуасонсое распределение \n",
      "\n",
      "5.006364045266183 < 7.8\n",
      "True\n"
     ]
    }
   ],
   "source": [
    "pit0 = (m1**i1_1 * 2.718**(-1*(m1)))/(1.105)\n",
    "pit1 = (m1**i1_2 * 2.718**(-1*(m1)))/(2.139)\n",
    "pit2 = (m1**i1_3 * 2.718**(-1*(m1)))/(7.36)\n",
    "pit3 = (m1**i1_4 * 2.718**(-1*(m1)))/(24.512)\n",
    "pit4 = (m1**i1_5 * 2.718**(-1*(m1)))/(31.246)\n",
    "\n",
    "ni1 = len(v1_1)\n",
    "ni2 = len(v1_2)\n",
    "ni3 = len(v1_3)\n",
    "ni4 = len(v1_4)\n",
    "ni5 = len(v1_5)\n",
    "\n",
    "n1_1 = n1 * pit0 # ni'\n",
    "n1_2 = n1 * pit1\n",
    "n1_3 = n1 * pit2\n",
    "n1_4 = n1 * pit3\n",
    "n1_5 = n1 * pit4\n",
    "\n",
    "xnab1 = ((ni1-n1_1)**2)/n1_1\n",
    "xnab2 = ((ni2-n1_2)**2)/n1_2\n",
    "xnab3 = ((ni3-n1_3)**2)/n1_3\n",
    "xnab4 = ((ni4-n1_4)**2)/n1_4\n",
    "xnab5 = ((ni5-n1_5)**2)/n1_5\n",
    "\n",
    "xnabl1 = xnab1+xnab2+xnab3+xnab4+xnab5\n",
    "\n",
    "xkrit1 = 7.8\n",
    "print('Хнабл > Xкрит - Нормальное распределение')\n",
    "print('Хнабл < Xкрит - Пуасонсое распределение', '\\n')\n",
    "print(xnabl1 ,'<', xkrit1)\n",
    "print(xnabl1 < xkrit1)"
   ]
  },
  {
   "cell_type": "code",
   "execution_count": 63,
   "id": "d9e0c561",
   "metadata": {},
   "outputs": [
    {
     "name": "stdout",
     "output_type": "stream",
     "text": [
      "Хнабл > Xкрит - Нормальное распределение\n",
      "Хнабл < Xкрит - Пуасонсое распределение \n",
      "\n",
      "4.86364560690155 < 7.8\n",
      "True\n"
     ]
    }
   ],
   "source": [
    "pit10 = (m1**0 * 2.718**(-1*(m1)))/(1)\n",
    "pit11 = (m1**1 * 2.718**(-1*(m1)))/(1)\n",
    "pit12 = (m1**2 * 2.718**(-1*(m1)))/(2)\n",
    "pit13 = (m1**3 * 2.718**(-1*(m1)))/(6)\n",
    "pit14 = (m1**4 * 2.718**(-1*(m1)))/(24)\n",
    "\n",
    "ni1 = len(v1_1)\n",
    "ni2 = len(v1_2)\n",
    "ni3 = len(v1_3)\n",
    "ni4 = len(v1_4)\n",
    "ni5 = len(v1_5)\n",
    "\n",
    "n1_1 = n1 * pit10 # ni'\n",
    "n1_2 = n1 * pit11\n",
    "n1_3 = n1 * pit12\n",
    "n1_4 = n1 * pit13\n",
    "n1_5 = n1 * pit14\n",
    "\n",
    "xnab11 = ((ni1-n1_1)**2)/n1_1\n",
    "xnab12 = ((ni2-n1_2)**2)/n1_2\n",
    "xnab13 = ((ni3-n1_3)**2)/n1_3\n",
    "xnab14 = ((ni4-n1_4)**2)/n1_4\n",
    "xnab15 = ((ni5-n1_5)**2)/n1_5\n",
    "\n",
    "xnabl1 = xnab11+xnab12+xnab13+xnab14+xnab15\n",
    "\n",
    "xkrit1 = 7.8\n",
    "print('Хнабл > Xкрит - Нормальное распределение')\n",
    "print('Хнабл < Xкрит - Пуасонсое распределение', '\\n')\n",
    "print(xnabl1 ,'<', xkrit1)\n",
    "print(xnabl1 < xkrit1)"
   ]
  },
  {
   "cell_type": "code",
   "execution_count": null,
   "id": "0e6aceee",
   "metadata": {},
   "outputs": [],
   "source": []
  },
  {
   "cell_type": "markdown",
   "id": "f7d90531",
   "metadata": {},
   "source": [
    "**2 по хи квадрату**"
   ]
  },
  {
   "cell_type": "code",
   "execution_count": 64,
   "id": "a52407f4",
   "metadata": {},
   "outputs": [
    {
     "name": "stdout",
     "output_type": "stream",
     "text": [
      "Хнабл > Xкрит - Пуасонсое распределение\n",
      "Хнабл < Xкрит - нормальное распределение \n",
      "\n",
      "0.550873273357253 < 9.5\n",
      "True\n"
     ]
    }
   ],
   "source": [
    "ui2 = (v1_2 - m2)/srz2\n",
    "ui2 = statistics.stdev(ui2)\n",
    "\n",
    "\n",
    "fb = по тпбл лапласса \n",
    "fi2 = (1/math.sqrt(2*3.14)) * (2.718**(((-1*ui2)**2)/2))\n",
    "nis2 = ((59*2) / srz2) * fi2\n",
    "\n",
    "\n",
    "xnab2 = ((13-nis2)**2)/nis2\n",
    "xkrit2 = 9.5\n",
    "print('Хнабл > Xкрит - Пуасонсое распределение')\n",
    "print('Хнабл < Xкрит - нормальное распределение', '\\n')\n",
    "print(xnab2 ,'<', xkrit2)\n",
    "print(xnab2 < xkrit2)"
   ]
  },
  {
   "cell_type": "code",
   "execution_count": 65,
   "id": "b4966e7f",
   "metadata": {},
   "outputs": [
    {
     "data": {
      "text/plain": [
       "25.438080428934093"
      ]
     },
     "execution_count": 65,
     "metadata": {},
     "output_type": "execute_result"
    }
   ],
   "source": [
    "i2_5"
   ]
  },
  {
   "cell_type": "code",
   "execution_count": 66,
   "id": "d884483f",
   "metadata": {},
   "outputs": [
    {
     "name": "stdout",
     "output_type": "stream",
     "text": [
      "0.02665691959607967\n",
      "Хнабл > Xкрит - Нормальное распределение\n",
      "Хнабл < Xкрит - Пуасонсое распределение \n",
      "\n",
      "244.54223351057692 > 7.8\n",
      "True\n"
     ]
    }
   ],
   "source": [
    "pit20 = (m2**i2_1 * 2.718**(-1*(m2)))/(34013255210612.426)\n",
    "pit21 = (m2**i2_2 * 2.718**(-1*(m2)))/(30825681155451670.899)\n",
    "pit22 = (m2**i2_3 * 2.718**(-1*(m2)))/(21027057341248831176.259)\n",
    "pit23 = (m2**i2_4 * 2.718**(-1*(m2)))/(5639329663689413784978530.507)\n",
    "pit24 = (m2**i2_4 * 2.718**(-1*(m2)))/(64320090438183189127012999.064)\n",
    "\n",
    "print(pit20)\n",
    "ni1 = len(v2_1)\n",
    "ni2 = len(v2_2)\n",
    "ni3 = len(v2_3)\n",
    "ni4 = len(v2_4)\n",
    "ni5 = len(v2_5)\n",
    "\n",
    "n2_1 = n2 * pit20 # ni'\n",
    "n2_2 = n2 * pit21\n",
    "n2_3 = n2 * pit22\n",
    "n2_4 = n2 * pit23\n",
    "n2_5 = n2 * pit24\n",
    "\n",
    "xnab21 = ((ni1-n2_1)**2)/n2_1\n",
    "xnab22 = ((ni2-n2_2)**2)/n2_2\n",
    "xnab23 = ((ni3-n2_3)**2)/n2_3\n",
    "xnab24 = ((ni4-n2_4)**2)/n2_4\n",
    "xnab25 = ((ni5-n2_5)**2)/n2_5\n",
    "\n",
    "xnabl2 = xnab21+xnab22+xnab23+xnab24+xnab25\n",
    "\n",
    "xkrit2 = 7.8\n",
    "print('Хнабл > Xкрит - Нормальное распределение')\n",
    "print('Хнабл < Xкрит - Пуасонсое распределение', '\\n')\n",
    "print(xnabl2 ,'>', xkrit2)\n",
    "print(xnabl2 > xkrit2)\n"
   ]
  },
  {
   "cell_type": "code",
   "execution_count": 67,
   "id": "ea9bc5b0",
   "metadata": {},
   "outputs": [
    {
     "name": "stdout",
     "output_type": "stream",
     "text": [
      "Хнабл > Xкрит - Нормальное распределение\n",
      "Хнабл < Xкрит - Пуасонсое распределение \n",
      "\n",
      "13686830783.920233 > 7.8\n",
      "True\n"
     ]
    }
   ],
   "source": [
    "pit20 = (m2**0 * 2.718**(-1*(m2)))/(1)\n",
    "pit21 = (m2**1 * 2.718**(-1*(m2)))/(1)\n",
    "pit22 = (m2**2 * 2.718**(-1*(m2)))/(2)\n",
    "pit23 = (m2**3 * 2.718**(-1*(m2)))/(6)\n",
    "pit24 = (m2**4 * 2.718**(-1*(m2)))/(24)\n",
    "\n",
    "\n",
    "ni1 = len(v2_1)\n",
    "ni2 = len(v2_2)\n",
    "ni3 = len(v2_3)\n",
    "ni4 = len(v2_4)\n",
    "ni5 = len(v2_5)\n",
    "\n",
    "n2_1 = n2 * pit20 # ni'\n",
    "n2_2 = n2 * pit21\n",
    "n2_3 = n2 * pit22\n",
    "n2_4 = n2 * pit23\n",
    "n2_5 = n2 * pit24\n",
    "\n",
    "xnab21 = ((ni1-n2_1)**2)/n2_1\n",
    "xnab22 = ((ni2-n2_2)**2)/n2_2\n",
    "xnab23 = ((ni3-n2_3)**2)/n2_3\n",
    "xnab24 = ((ni4-n2_4)**2)/n2_4\n",
    "xnab25 = ((ni5-n2_5)**2)/n2_5\n",
    "\n",
    "xnabl2 = xnab21+xnab22+xnab23+xnab24+xnab25\n",
    "\n",
    "xkrit2 = 7.8\n",
    "print('Хнабл > Xкрит - Нормальное распределение')\n",
    "print('Хнабл < Xкрит - Пуасонсое распределение', '\\n')\n",
    "print(xnabl2 ,'>', xkrit2)\n",
    "print(xnabl2 > xkrit2)\n"
   ]
  },
  {
   "cell_type": "markdown",
   "id": "8be6e65c",
   "metadata": {},
   "source": [
    "**3 по хи квадрату**"
   ]
  },
  {
   "cell_type": "code",
   "execution_count": 68,
   "id": "5378c5f4",
   "metadata": {},
   "outputs": [
    {
     "data": {
      "text/plain": [
       "2     3.455660\n",
       "16    3.368538\n",
       "20    3.207091\n",
       "24    3.057019\n",
       "31    3.044953\n",
       "50    3.118594\n",
       "Name: t между отход и приход за кассу, dtype: float64"
      ]
     },
     "execution_count": 68,
     "metadata": {},
     "output_type": "execute_result"
    }
   ],
   "source": [
    "v1_3"
   ]
  },
  {
   "cell_type": "code",
   "execution_count": 69,
   "id": "b35fb237",
   "metadata": {},
   "outputs": [
    {
     "name": "stdout",
     "output_type": "stream",
     "text": [
      "Хнабл > Xкрит - нормальное распределение\n",
      "Хнабл < Xкрит - Пуасонсое распределение \n",
      "\n",
      "0.6162188381528761 < 11.1\n",
      "True\n"
     ]
    }
   ],
   "source": [
    "ui3 = (v1_3 - m3)/srz3\n",
    "pit3 = (m3**6) *(2.71**(-1*(m3)))/720\n",
    "nis3 = 59*pit3\n",
    "\n",
    "xnab3 = ((6-nis3)**2)/nis3\n",
    "xkrit3 = 11.1\n",
    "print('Хнабл > Xкрит - нормальное распределение')\n",
    "print('Хнабл < Xкрит - Пуасонсое распределение', '\\n')\n",
    "print(xnab3 ,'<', xkrit3)\n",
    "print(xnab3 < xkrit3)"
   ]
  },
  {
   "cell_type": "code",
   "execution_count": 86,
   "id": "e16081ca",
   "metadata": {},
   "outputs": [
    {
     "data": {
      "text/plain": [
       "1.395860252727177"
      ]
     },
     "execution_count": 86,
     "metadata": {},
     "output_type": "execute_result"
    }
   ],
   "source": [
    "n3_1"
   ]
  },
  {
   "cell_type": "code",
   "execution_count": 70,
   "id": "81861e42",
   "metadata": {},
   "outputs": [
    {
     "name": "stdout",
     "output_type": "stream",
     "text": [
      "Хнабл > Xкрит - Нормальное распределение\n",
      "Хнабл < Xкрит - Пуасонсое распределение \n",
      "\n",
      "32.04861687581856 > 7.8\n",
      "True\n"
     ]
    }
   ],
   "source": [
    "pit30 = (m3**i3_1 * 2.718**(-1*(m3)))/(1.282)\n",
    "pit31 = (m3**i3_2 * 2.718**(-1*(m3)))/(3.272)\n",
    "pit32 = (m3**i3_3 * 2.718**(-1*(m3)))/(10.691)\n",
    "pit33 = (m3**i3_4 * 2.718**(-1*(m3)))/(102.821)\n",
    "pit34 = (m3**i3_5 * 2.718**(-1*(m3)))/(7671.18)\n",
    "\n",
    "\n",
    "ni1 = len(v3_1)\n",
    "ni2 = len(v3_2)\n",
    "ni3 = len(v3_3)\n",
    "ni4 = len(v3_4)\n",
    "ni5 = len(v3_5)\n",
    "\n",
    "n3_1 = n3 * pit30 # ni'\n",
    "n3_2 = n3 * pit31\n",
    "n3_3 = n3 * pit32\n",
    "n3_4 = n3 * pit33\n",
    "n3_5 = n3 * pit34\n",
    "\n",
    "xnab31 = ((ni1-n3_1)**2)/n3_1\n",
    "xnab32 = ((ni2-n3_2)**2)/n3_2\n",
    "xnab33 = ((ni3-n3_3)**2)/n3_3\n",
    "xnab34 = ((ni4-n3_4)**2)/n3_4\n",
    "xnab35 = ((ni5-n3_5)**2)/n3_5\n",
    "\n",
    "xnabl3 = xnab31+xnab32+xnab33+xnab34+xnab35\n",
    "\n",
    "xkrit3 = 7.8\n",
    "print('Хнабл > Xкрит - Нормальное распределение')\n",
    "print('Хнабл < Xкрит - Пуасонсое распределение', '\\n')\n",
    "print(xnabl3 ,'>', xkrit3)\n",
    "print(xnabl3 > xkrit3)\n"
   ]
  },
  {
   "cell_type": "code",
   "execution_count": 71,
   "id": "8da8caa7",
   "metadata": {},
   "outputs": [
    {
     "data": {
      "text/plain": [
       "13    4.788861\n",
       "29    4.620703\n",
       "30    5.029857\n",
       "37    5.395022\n",
       "38    4.659377\n",
       "46    5.936616\n",
       "Name: общ t заказа, dtype: float64"
      ]
     },
     "execution_count": 71,
     "metadata": {},
     "output_type": "execute_result"
    }
   ],
   "source": [
    "v3_4"
   ]
  },
  {
   "cell_type": "code",
   "execution_count": 72,
   "id": "b276241a",
   "metadata": {},
   "outputs": [
    {
     "name": "stdout",
     "output_type": "stream",
     "text": [
      "Хнабл > Xкрит - Нормальное распределение\n",
      "Хнабл < Xкрит - Пуасонсое распределение \n",
      "\n",
      "39.251735222231986 > 7.8\n",
      "True\n"
     ]
    }
   ],
   "source": [
    "pit30 = (m3**0 * 2.718**(-1*(m3)))/(1)\n",
    "pit31 = (m3**1 * 2.718**(-1*(m3)))/(1)\n",
    "pit32 = (m3**2 * 2.718**(-1*(m3)))/(2)\n",
    "pit33 = (m3**3 * 2.718**(-1*(m3)))/(6)\n",
    "pit34 = (m3**4 * 2.718**(-1*(m3)))/(24)\n",
    "\n",
    "\n",
    "ni1 = len(v3_1)\n",
    "ni2 = len(v3_2)\n",
    "ni3 = len(v3_3)\n",
    "ni4 = len(v3_4)\n",
    "ni5 = len(v3_5)\n",
    "\n",
    "n3_1 = n3 * pit30 # ni'\n",
    "n3_2 = n3 * pit31\n",
    "n3_3 = n3 * pit32\n",
    "n3_4 = n3 * pit33\n",
    "n3_5 = n3 * pit34\n",
    "\n",
    "xnab31 = ((ni1-n3_1)**2)/n3_1\n",
    "xnab32 = ((ni2-n3_2)**2)/n3_2\n",
    "xnab33 = ((ni3-n3_3)**2)/n3_3\n",
    "xnab34 = ((ni4-n3_4)**2)/n3_4\n",
    "xnab35 = ((ni5-n3_5)**2)/n3_5\n",
    "\n",
    "xnabl3 = xnab31+xnab32+xnab33+xnab34+xnab35\n",
    "\n",
    "xkrit3 = 7.8\n",
    "print('Хнабл > Xкрит - Нормальное распределение')\n",
    "print('Хнабл < Xкрит - Пуасонсое распределение', '\\n')\n",
    "print(xnabl3 ,'>', xkrit3)\n",
    "print(xnabl3 > xkrit3)\n"
   ]
  },
  {
   "cell_type": "markdown",
   "id": "fa1b39c9",
   "metadata": {},
   "source": [
    "**4 по хи квадрату**"
   ]
  },
  {
   "cell_type": "code",
   "execution_count": 73,
   "id": "95d05a8f",
   "metadata": {},
   "outputs": [
    {
     "name": "stdout",
     "output_type": "stream",
     "text": [
      "Хнабл > Xкрит - Пуасонсое распределение\n",
      "Хнабл < Xкрит - нормальное распределение \n",
      "\n",
      "0.9279782951541518 < 9.5\n",
      "True\n"
     ]
    }
   ],
   "source": [
    "ui4 = (v1_4 - m4)/srz4\n",
    "ui4 = statistics.stdev(ui4)\n",
    "\n",
    "fi4 = (1/math.sqrt(2*3.14)) * (2.718**(((-1*ui4)**2)/2))\n",
    "nis4 = ((59*5) / srz4) * fi4\n",
    "\n",
    "\n",
    "xnab4 = ((43-nis4)**2)/nis4\n",
    "xkrit4 = 9.5\n",
    "print('Хнабл > Xкрит - Пуасонсое распределение')\n",
    "print('Хнабл < Xкрит - нормальное распределение', '\\n')\n",
    "print(xnab4 ,'<', xkrit4)\n",
    "print(xnab4 < xkrit4)"
   ]
  },
  {
   "cell_type": "code",
   "execution_count": 74,
   "id": "d299bfce",
   "metadata": {},
   "outputs": [
    {
     "name": "stdout",
     "output_type": "stream",
     "text": [
      "3.74771682322938e-05\n",
      "Хнабл > Xкрит - Нормальное распределение\n",
      "Хнабл < Xкрит - Пуасонсое распределение \n",
      "\n",
      "306606.8040377264 > 7.8\n",
      "True\n"
     ]
    }
   ],
   "source": [
    "pit40 = (m4**0 * 2.718**(-1*(m4)))/(1)\n",
    "pit41 = (m4**1 * 2.718**(-1*(m4)))/(1)\n",
    "pit42 = (m4**2 * 2.718**(-1*(m4)))/(2)\n",
    "pit43 = (m4**3 * 2.718**(-1*(m4)))/(6)\n",
    "pit44 = (m4**4 * 2.718**(-1*(m4)))/(24)\n",
    "\n",
    "print(pit40)\n",
    "ni1 = len(v4_1)\n",
    "ni2 = len(v4_2)\n",
    "ni3 = len(v4_3)\n",
    "ni4 = len(v4_4)\n",
    "ni5 = len(v4_5)\n",
    "\n",
    "n4_1 = n4 * pit40 # ni'\n",
    "n4_2 = n4 * pit41\n",
    "n4_3 = n4 * pit42\n",
    "n4_4 = n4 * pit43\n",
    "n4_5 = n4 * pit44\n",
    "\n",
    "xnab41 = ((ni1-n4_1)**2)/n4_1\n",
    "xnab42 = ((ni2-n4_2)**2)/n4_2\n",
    "xnab43 = ((ni3-n4_3)**2)/n4_3\n",
    "xnab44 = ((ni4-n4_4)**2)/n4_4\n",
    "xnab45 = ((ni5-n4_5)**2)/n4_5\n",
    "\n",
    "xnabl4 = xnab41+xnab42+xnab43+xnab44+xnab45\n",
    "\n",
    "xkrit4 = 7.8\n",
    "print('Хнабл > Xкрит - Нормальное распределение')\n",
    "print('Хнабл < Xкрит - Пуасонсое распределение', '\\n')\n",
    "print(xnabl4 ,'>', xkrit4)\n",
    "print(xnabl4 > xkrit4)\n"
   ]
  },
  {
   "cell_type": "code",
   "execution_count": 75,
   "id": "e02d1d2c",
   "metadata": {},
   "outputs": [
    {
     "data": {
      "text/plain": [
       "12.464874963396845"
      ]
     },
     "execution_count": 75,
     "metadata": {},
     "output_type": "execute_result"
    }
   ],
   "source": [
    "i4_5"
   ]
  },
  {
   "cell_type": "code",
   "execution_count": 76,
   "id": "610d53b0",
   "metadata": {},
   "outputs": [
    {
     "name": "stdout",
     "output_type": "stream",
     "text": [
      "0.1206274378532712\n",
      "Хнабл > Xкрит - Нормальное распределение\n",
      "Хнабл < Xкрит - Пуасонсое распределение \n",
      "\n",
      "75.13599908966083 > 7.8\n",
      "True\n"
     ]
    }
   ],
   "source": [
    "pit40 = (m4**i4_1 * 2.718**(-1*(m4)))/(15954623.964)\n",
    "pit41 = (m4**i4_2 * 2.718**(-1*(m4)))/(14914361.688)\n",
    "pit42 = (m4**i4_3 * 2.718**(-1*(m4)))/(36203667.391)\n",
    "pit43 = (m4**i4_4 * 2.718**(-1*(m4)))/(64853966.300)\n",
    "pit44 = (m4**i4_5 * 2.718**(-1*(m4)))/(1559730645.926)\n",
    "\n",
    "print(pit40)\n",
    "ni1 = len(v4_1)\n",
    "ni2 = len(v4_2)\n",
    "ni3 = len(v4_3)\n",
    "ni4 = len(v4_4)\n",
    "ni5 = len(v4_5)\n",
    "\n",
    "n4_1 = n4 * pit40 # ni'\n",
    "n4_2 = n4 * pit41\n",
    "n4_3 = n4 * pit42\n",
    "n4_4 = n4 * pit43\n",
    "n4_5 = n4 * pit44\n",
    "\n",
    "xnab41 = ((ni1-n4_1)**2)/n4_1\n",
    "xnab42 = ((ni2-n4_2)**2)/n4_2\n",
    "xnab43 = ((ni3-n4_3)**2)/n4_3\n",
    "xnab44 = ((ni4-n4_4)**2)/n4_4\n",
    "xnab45 = ((ni5-n4_5)**2)/n4_5\n",
    "\n",
    "xnabl4 = xnab41+xnab42+xnab43+xnab44+xnab45\n",
    "\n",
    "xkrit4 = 7.8\n",
    "print('Хнабл > Xкрит - Нормальное распределение')\n",
    "print('Хнабл < Xкрит - Пуасонсое распределение', '\\n')\n",
    "print(xnabl4 ,'>', xkrit4)\n",
    "print(xnabl4 > xkrit4)\n"
   ]
  },
  {
   "cell_type": "code",
   "execution_count": null,
   "id": "706e174c",
   "metadata": {},
   "outputs": [],
   "source": []
  },
  {
   "cell_type": "code",
   "execution_count": null,
   "id": "16055101",
   "metadata": {},
   "outputs": [],
   "source": []
  },
  {
   "cell_type": "code",
   "execution_count": null,
   "id": "d7b3ec9d",
   "metadata": {},
   "outputs": [],
   "source": []
  }
 ],
 "metadata": {
  "kernelspec": {
   "display_name": "Python 3 (ipykernel)",
   "language": "python",
   "name": "python3"
  },
  "language_info": {
   "codemirror_mode": {
    "name": "ipython",
    "version": 3
   },
   "file_extension": ".py",
   "mimetype": "text/x-python",
   "name": "python",
   "nbconvert_exporter": "python",
   "pygments_lexer": "ipython3",
   "version": "3.11.5"
  }
 },
 "nbformat": 4,
 "nbformat_minor": 5
}
